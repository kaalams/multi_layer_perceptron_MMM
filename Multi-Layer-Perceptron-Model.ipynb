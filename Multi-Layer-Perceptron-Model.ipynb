{
 "cells": [
  {
   "cell_type": "markdown",
   "metadata": {},
   "source": [
    "# MODELLING THE CLASSIFICATION AND PREDICTION OF BREAST CANCER IN PATIENTS"
   ]
  },
  {
   "cell_type": "markdown",
   "metadata": {},
   "source": [
    "This model predicts and classifies a mammographic mass as either benign or malignant and assigns a BI-RADS assessment\n",
    "score(An assessment of the confidence of the severity of the classification given on an scale of 1-5.)\n",
    "This is in itself a non-predictive attribute."
   ]
  },
  {
   "cell_type": "markdown",
   "metadata": {},
   "source": [
    "This data contains 961 instances of masses detected in mammograms from the public dataset from the UCI repository (source: https://archive.ics.uci.edu/ml/datasets/Mammographic+Mass), and contains the following attributes:\n"
   ]
  },
  {
   "cell_type": "markdown",
   "metadata": {},
   "source": [
    "BI-RADS assessment: 1 to 5 (ordinal)\n",
    "\n",
    "Age: patient's age in years (integer)\n",
    "\n",
    "Shape: mass shape: round=1 oval=2 lobular=3 irregular=4 (nominal)\n",
    "\n",
    "Margin: mass margin: circumscribed=1 microlobulated=2 obscured=3 ill-defined=4 spiculated=5 (nominal)\n",
    "\n",
    "Density: mass density high=1 iso=2 low=3 fat-containing=4 (ordinal)\n",
    "\n",
    "Severity: benign=0 or malignant=1 (binominal)"
   ]
  },
  {
   "cell_type": "markdown",
   "metadata": {},
   "source": [
    "# PRELIMINARY ANALYSIS OF THE DATA"
   ]
  },
  {
   "cell_type": "code",
   "execution_count": 3,
   "metadata": {},
   "outputs": [
    {
     "data": {
      "text/html": [
       "<div>\n",
       "<style scoped>\n",
       "    .dataframe tbody tr th:only-of-type {\n",
       "        vertical-align: middle;\n",
       "    }\n",
       "\n",
       "    .dataframe tbody tr th {\n",
       "        vertical-align: top;\n",
       "    }\n",
       "\n",
       "    .dataframe thead th {\n",
       "        text-align: right;\n",
       "    }\n",
       "</style>\n",
       "<table border=\"1\" class=\"dataframe\">\n",
       "  <thead>\n",
       "    <tr style=\"text-align: right;\">\n",
       "      <th></th>\n",
       "      <th>5</th>\n",
       "      <th>67</th>\n",
       "      <th>3</th>\n",
       "      <th>5.1</th>\n",
       "      <th>3.1</th>\n",
       "      <th>1</th>\n",
       "    </tr>\n",
       "  </thead>\n",
       "  <tbody>\n",
       "    <tr>\n",
       "      <th>0</th>\n",
       "      <td>4</td>\n",
       "      <td>43</td>\n",
       "      <td>1</td>\n",
       "      <td>1</td>\n",
       "      <td>?</td>\n",
       "      <td>1</td>\n",
       "    </tr>\n",
       "    <tr>\n",
       "      <th>1</th>\n",
       "      <td>5</td>\n",
       "      <td>58</td>\n",
       "      <td>4</td>\n",
       "      <td>5</td>\n",
       "      <td>3</td>\n",
       "      <td>1</td>\n",
       "    </tr>\n",
       "    <tr>\n",
       "      <th>2</th>\n",
       "      <td>4</td>\n",
       "      <td>28</td>\n",
       "      <td>1</td>\n",
       "      <td>1</td>\n",
       "      <td>3</td>\n",
       "      <td>0</td>\n",
       "    </tr>\n",
       "    <tr>\n",
       "      <th>3</th>\n",
       "      <td>5</td>\n",
       "      <td>74</td>\n",
       "      <td>1</td>\n",
       "      <td>5</td>\n",
       "      <td>?</td>\n",
       "      <td>1</td>\n",
       "    </tr>\n",
       "    <tr>\n",
       "      <th>4</th>\n",
       "      <td>4</td>\n",
       "      <td>65</td>\n",
       "      <td>1</td>\n",
       "      <td>?</td>\n",
       "      <td>3</td>\n",
       "      <td>0</td>\n",
       "    </tr>\n",
       "  </tbody>\n",
       "</table>\n",
       "</div>"
      ],
      "text/plain": [
       "   5  67  3 5.1 3.1  1\n",
       "0  4  43  1   1   ?  1\n",
       "1  5  58  4   5   3  1\n",
       "2  4  28  1   1   3  0\n",
       "3  5  74  1   5   ?  1\n",
       "4  4  65  1   ?   3  0"
      ]
     },
     "execution_count": 3,
     "metadata": {},
     "output_type": "execute_result"
    }
   ],
   "source": [
    "%matplotlib inline\n",
    "import pandas as pd\n",
    "import matplotlib.pyplot as plt\n",
    "import seaborn as sns\n",
    "import numpy as np\n",
    "sns.set()\n",
    "\n",
    "df = pd.read_csv(\"mammographic_masses.data\") #reading and passing the data into a pandas dataframe\n",
    "df.head() # displaying the first 5 rows of the data available"
   ]
  },
  {
   "cell_type": "markdown",
   "metadata": {},
   "source": [
    "The public dataset awards us with two files, \"mammographic_masses.data\" which contains the data for this assessment and \"mammographic_masses.names\", a text file which indicates the respective column names of the dataset. I will now create a list containing these attribute names.\n",
    "\n",
    "From a mere inspection cells are seen to contain the values \"?\", these are not numeric values and will subsequently be treated Na values."
   ]
  },
  {
   "cell_type": "code",
   "execution_count": 4,
   "metadata": {},
   "outputs": [
    {
     "data": {
      "text/html": [
       "<div>\n",
       "<style scoped>\n",
       "    .dataframe tbody tr th:only-of-type {\n",
       "        vertical-align: middle;\n",
       "    }\n",
       "\n",
       "    .dataframe tbody tr th {\n",
       "        vertical-align: top;\n",
       "    }\n",
       "\n",
       "    .dataframe thead th {\n",
       "        text-align: right;\n",
       "    }\n",
       "</style>\n",
       "<table border=\"1\" class=\"dataframe\">\n",
       "  <thead>\n",
       "    <tr style=\"text-align: right;\">\n",
       "      <th></th>\n",
       "      <th>BI-RADS</th>\n",
       "      <th>AGE</th>\n",
       "      <th>SHAPE</th>\n",
       "      <th>MARGIN</th>\n",
       "      <th>DENSITY</th>\n",
       "      <th>SEVERITY</th>\n",
       "    </tr>\n",
       "  </thead>\n",
       "  <tbody>\n",
       "    <tr>\n",
       "      <th>0</th>\n",
       "      <td>5.0</td>\n",
       "      <td>67.0</td>\n",
       "      <td>3.0</td>\n",
       "      <td>5.0</td>\n",
       "      <td>3.0</td>\n",
       "      <td>1</td>\n",
       "    </tr>\n",
       "    <tr>\n",
       "      <th>1</th>\n",
       "      <td>4.0</td>\n",
       "      <td>43.0</td>\n",
       "      <td>1.0</td>\n",
       "      <td>1.0</td>\n",
       "      <td>NaN</td>\n",
       "      <td>1</td>\n",
       "    </tr>\n",
       "    <tr>\n",
       "      <th>2</th>\n",
       "      <td>5.0</td>\n",
       "      <td>58.0</td>\n",
       "      <td>4.0</td>\n",
       "      <td>5.0</td>\n",
       "      <td>3.0</td>\n",
       "      <td>1</td>\n",
       "    </tr>\n",
       "    <tr>\n",
       "      <th>3</th>\n",
       "      <td>4.0</td>\n",
       "      <td>28.0</td>\n",
       "      <td>1.0</td>\n",
       "      <td>1.0</td>\n",
       "      <td>3.0</td>\n",
       "      <td>0</td>\n",
       "    </tr>\n",
       "    <tr>\n",
       "      <th>4</th>\n",
       "      <td>5.0</td>\n",
       "      <td>74.0</td>\n",
       "      <td>1.0</td>\n",
       "      <td>5.0</td>\n",
       "      <td>NaN</td>\n",
       "      <td>1</td>\n",
       "    </tr>\n",
       "  </tbody>\n",
       "</table>\n",
       "</div>"
      ],
      "text/plain": [
       "   BI-RADS   AGE  SHAPE  MARGIN  DENSITY  SEVERITY\n",
       "0      5.0  67.0    3.0     5.0      3.0         1\n",
       "1      4.0  43.0    1.0     1.0      NaN         1\n",
       "2      5.0  58.0    4.0     5.0      3.0         1\n",
       "3      4.0  28.0    1.0     1.0      3.0         0\n",
       "4      5.0  74.0    1.0     5.0      NaN         1"
      ]
     },
     "execution_count": 4,
     "metadata": {},
     "output_type": "execute_result"
    }
   ],
   "source": [
    "attribute_names = ['BI-RADS', 'AGE', 'SHAPE', 'MARGIN', 'DENSITY', 'SEVERITY']\n",
    "df = pd.read_csv(\"mammographic_masses.data\", na_values = '?', names = attribute_names )\n",
    "df.head()"
   ]
  },
  {
   "cell_type": "markdown",
   "metadata": {},
   "source": [
    "# DATA CLEANING"
   ]
  },
  {
   "cell_type": "markdown",
   "metadata": {},
   "source": [
    "To get a better picture of the data, now captured in our dataframe we need to brief overview of the dataframe itself. The number of NaN values and the distribution of these NaN values so as to determine to method of handling to be used."
   ]
  },
  {
   "cell_type": "code",
   "execution_count": 5,
   "metadata": {},
   "outputs": [
    {
     "name": "stdout",
     "output_type": "stream",
     "text": [
      "<class 'pandas.core.frame.DataFrame'>\n",
      "RangeIndex: 961 entries, 0 to 960\n",
      "Data columns (total 6 columns):\n",
      " #   Column    Non-Null Count  Dtype  \n",
      "---  ------    --------------  -----  \n",
      " 0   BI-RADS   959 non-null    float64\n",
      " 1   AGE       956 non-null    float64\n",
      " 2   SHAPE     930 non-null    float64\n",
      " 3   MARGIN    913 non-null    float64\n",
      " 4   DENSITY   885 non-null    float64\n",
      " 5   SEVERITY  961 non-null    int64  \n",
      "dtypes: float64(5), int64(1)\n",
      "memory usage: 45.2 KB\n"
     ]
    }
   ],
   "source": [
    "df.info()"
   ]
  },
  {
   "cell_type": "markdown",
   "metadata": {},
   "source": [
    "From the summary above, it is seen that the dataset is not imbalance by the number of null values present (Out of 961 entries the least number of non-null values in our dataframe is 885 (about 92% of the original dataset) , however the distribution of the null values is unknown an inorder to avoid introducing bias into the system, more has to be known about the dataframe."
   ]
  },
  {
   "cell_type": "code",
   "execution_count": 6,
   "metadata": {},
   "outputs": [
    {
     "data": {
      "text/html": [
       "<div>\n",
       "<style scoped>\n",
       "    .dataframe tbody tr th:only-of-type {\n",
       "        vertical-align: middle;\n",
       "    }\n",
       "\n",
       "    .dataframe tbody tr th {\n",
       "        vertical-align: top;\n",
       "    }\n",
       "\n",
       "    .dataframe thead th {\n",
       "        text-align: right;\n",
       "    }\n",
       "</style>\n",
       "<table border=\"1\" class=\"dataframe\">\n",
       "  <thead>\n",
       "    <tr style=\"text-align: right;\">\n",
       "      <th></th>\n",
       "      <th>BI-RADS</th>\n",
       "      <th>AGE</th>\n",
       "      <th>SHAPE</th>\n",
       "      <th>MARGIN</th>\n",
       "      <th>DENSITY</th>\n",
       "      <th>SEVERITY</th>\n",
       "    </tr>\n",
       "  </thead>\n",
       "  <tbody>\n",
       "    <tr>\n",
       "      <th>count</th>\n",
       "      <td>959.000000</td>\n",
       "      <td>956.000000</td>\n",
       "      <td>930.000000</td>\n",
       "      <td>913.000000</td>\n",
       "      <td>885.000000</td>\n",
       "      <td>961.000000</td>\n",
       "    </tr>\n",
       "    <tr>\n",
       "      <th>mean</th>\n",
       "      <td>4.348279</td>\n",
       "      <td>55.487448</td>\n",
       "      <td>2.721505</td>\n",
       "      <td>2.796276</td>\n",
       "      <td>2.910734</td>\n",
       "      <td>0.463059</td>\n",
       "    </tr>\n",
       "    <tr>\n",
       "      <th>std</th>\n",
       "      <td>1.783031</td>\n",
       "      <td>14.480131</td>\n",
       "      <td>1.242792</td>\n",
       "      <td>1.566546</td>\n",
       "      <td>0.380444</td>\n",
       "      <td>0.498893</td>\n",
       "    </tr>\n",
       "    <tr>\n",
       "      <th>min</th>\n",
       "      <td>0.000000</td>\n",
       "      <td>18.000000</td>\n",
       "      <td>1.000000</td>\n",
       "      <td>1.000000</td>\n",
       "      <td>1.000000</td>\n",
       "      <td>0.000000</td>\n",
       "    </tr>\n",
       "    <tr>\n",
       "      <th>25%</th>\n",
       "      <td>4.000000</td>\n",
       "      <td>45.000000</td>\n",
       "      <td>2.000000</td>\n",
       "      <td>1.000000</td>\n",
       "      <td>3.000000</td>\n",
       "      <td>0.000000</td>\n",
       "    </tr>\n",
       "    <tr>\n",
       "      <th>50%</th>\n",
       "      <td>4.000000</td>\n",
       "      <td>57.000000</td>\n",
       "      <td>3.000000</td>\n",
       "      <td>3.000000</td>\n",
       "      <td>3.000000</td>\n",
       "      <td>0.000000</td>\n",
       "    </tr>\n",
       "    <tr>\n",
       "      <th>75%</th>\n",
       "      <td>5.000000</td>\n",
       "      <td>66.000000</td>\n",
       "      <td>4.000000</td>\n",
       "      <td>4.000000</td>\n",
       "      <td>3.000000</td>\n",
       "      <td>1.000000</td>\n",
       "    </tr>\n",
       "    <tr>\n",
       "      <th>max</th>\n",
       "      <td>55.000000</td>\n",
       "      <td>96.000000</td>\n",
       "      <td>4.000000</td>\n",
       "      <td>5.000000</td>\n",
       "      <td>4.000000</td>\n",
       "      <td>1.000000</td>\n",
       "    </tr>\n",
       "  </tbody>\n",
       "</table>\n",
       "</div>"
      ],
      "text/plain": [
       "          BI-RADS         AGE       SHAPE      MARGIN     DENSITY    SEVERITY\n",
       "count  959.000000  956.000000  930.000000  913.000000  885.000000  961.000000\n",
       "mean     4.348279   55.487448    2.721505    2.796276    2.910734    0.463059\n",
       "std      1.783031   14.480131    1.242792    1.566546    0.380444    0.498893\n",
       "min      0.000000   18.000000    1.000000    1.000000    1.000000    0.000000\n",
       "25%      4.000000   45.000000    2.000000    1.000000    3.000000    0.000000\n",
       "50%      4.000000   57.000000    3.000000    3.000000    3.000000    0.000000\n",
       "75%      5.000000   66.000000    4.000000    4.000000    3.000000    1.000000\n",
       "max     55.000000   96.000000    4.000000    5.000000    4.000000    1.000000"
      ]
     },
     "execution_count": 6,
     "metadata": {},
     "output_type": "execute_result"
    }
   ],
   "source": [
    "df.describe()"
   ]
  },
  {
   "cell_type": "code",
   "execution_count": 7,
   "metadata": {},
   "outputs": [
    {
     "name": "stdout",
     "output_type": "stream",
     "text": [
      "     BI-RADS   AGE  SHAPE  MARGIN  DENSITY  SEVERITY\n",
      "1        4.0  43.0    1.0     1.0      NaN         1\n",
      "4        5.0  74.0    1.0     5.0      NaN         1\n",
      "5        4.0  65.0    1.0     NaN      3.0         0\n",
      "6        4.0  70.0    NaN     NaN      3.0         0\n",
      "7        5.0  42.0    1.0     NaN      3.0         0\n",
      "..       ...   ...    ...     ...      ...       ...\n",
      "778      4.0  60.0    NaN     4.0      3.0         0\n",
      "819      4.0  35.0    3.0     NaN      2.0         0\n",
      "824      6.0  40.0    NaN     3.0      4.0         1\n",
      "884      5.0   NaN    4.0     4.0      3.0         1\n",
      "923      5.0   NaN    4.0     3.0      3.0         1\n",
      "\n",
      "[131 rows x 6 columns]\n"
     ]
    }
   ],
   "source": [
    "NaN = df[df.isna().any(axis = 1)]\n",
    "print(NaN)"
   ]
  },
  {
   "cell_type": "markdown",
   "metadata": {},
   "source": [
    "There appears to be no correlation between the position of NaN values in our dataset, and neither do the NaN values form a large percentage of our dataset. Subsequently, these rows can be dropped."
   ]
  },
  {
   "cell_type": "code",
   "execution_count": 8,
   "metadata": {},
   "outputs": [
    {
     "data": {
      "text/html": [
       "<div>\n",
       "<style scoped>\n",
       "    .dataframe tbody tr th:only-of-type {\n",
       "        vertical-align: middle;\n",
       "    }\n",
       "\n",
       "    .dataframe tbody tr th {\n",
       "        vertical-align: top;\n",
       "    }\n",
       "\n",
       "    .dataframe thead th {\n",
       "        text-align: right;\n",
       "    }\n",
       "</style>\n",
       "<table border=\"1\" class=\"dataframe\">\n",
       "  <thead>\n",
       "    <tr style=\"text-align: right;\">\n",
       "      <th></th>\n",
       "      <th>BI-RADS</th>\n",
       "      <th>AGE</th>\n",
       "      <th>SHAPE</th>\n",
       "      <th>MARGIN</th>\n",
       "      <th>DENSITY</th>\n",
       "      <th>SEVERITY</th>\n",
       "    </tr>\n",
       "  </thead>\n",
       "  <tbody>\n",
       "    <tr>\n",
       "      <th>0</th>\n",
       "      <td>5.0</td>\n",
       "      <td>67.0</td>\n",
       "      <td>3.0</td>\n",
       "      <td>5.0</td>\n",
       "      <td>3.0</td>\n",
       "      <td>1</td>\n",
       "    </tr>\n",
       "    <tr>\n",
       "      <th>2</th>\n",
       "      <td>5.0</td>\n",
       "      <td>58.0</td>\n",
       "      <td>4.0</td>\n",
       "      <td>5.0</td>\n",
       "      <td>3.0</td>\n",
       "      <td>1</td>\n",
       "    </tr>\n",
       "    <tr>\n",
       "      <th>3</th>\n",
       "      <td>4.0</td>\n",
       "      <td>28.0</td>\n",
       "      <td>1.0</td>\n",
       "      <td>1.0</td>\n",
       "      <td>3.0</td>\n",
       "      <td>0</td>\n",
       "    </tr>\n",
       "    <tr>\n",
       "      <th>8</th>\n",
       "      <td>5.0</td>\n",
       "      <td>57.0</td>\n",
       "      <td>1.0</td>\n",
       "      <td>5.0</td>\n",
       "      <td>3.0</td>\n",
       "      <td>1</td>\n",
       "    </tr>\n",
       "    <tr>\n",
       "      <th>10</th>\n",
       "      <td>5.0</td>\n",
       "      <td>76.0</td>\n",
       "      <td>1.0</td>\n",
       "      <td>4.0</td>\n",
       "      <td>3.0</td>\n",
       "      <td>1</td>\n",
       "    </tr>\n",
       "  </tbody>\n",
       "</table>\n",
       "</div>"
      ],
      "text/plain": [
       "    BI-RADS   AGE  SHAPE  MARGIN  DENSITY  SEVERITY\n",
       "0       5.0  67.0    3.0     5.0      3.0         1\n",
       "2       5.0  58.0    4.0     5.0      3.0         1\n",
       "3       4.0  28.0    1.0     1.0      3.0         0\n",
       "8       5.0  57.0    1.0     5.0      3.0         1\n",
       "10      5.0  76.0    1.0     4.0      3.0         1"
      ]
     },
     "execution_count": 8,
     "metadata": {},
     "output_type": "execute_result"
    }
   ],
   "source": [
    "df.dropna(inplace = True)\n",
    "df.head()"
   ]
  },
  {
   "cell_type": "markdown",
   "metadata": {},
   "source": [
    "To make manipulation of our models easier, the BI-RADS column should be hot-encoded."
   ]
  },
  {
   "cell_type": "code",
   "execution_count": 9,
   "metadata": {},
   "outputs": [
    {
     "data": {
      "text/html": [
       "<div>\n",
       "<style scoped>\n",
       "    .dataframe tbody tr th:only-of-type {\n",
       "        vertical-align: middle;\n",
       "    }\n",
       "\n",
       "    .dataframe tbody tr th {\n",
       "        vertical-align: top;\n",
       "    }\n",
       "\n",
       "    .dataframe thead th {\n",
       "        text-align: right;\n",
       "    }\n",
       "</style>\n",
       "<table border=\"1\" class=\"dataframe\">\n",
       "  <thead>\n",
       "    <tr style=\"text-align: right;\">\n",
       "      <th></th>\n",
       "      <th>BI-RADS</th>\n",
       "      <th>AGE</th>\n",
       "      <th>SHAPE</th>\n",
       "      <th>MARGIN</th>\n",
       "      <th>DENSITY</th>\n",
       "      <th>SEVERITY</th>\n",
       "      <th>BI-RADS_0.0</th>\n",
       "      <th>BI-RADS_2.0</th>\n",
       "      <th>BI-RADS_3.0</th>\n",
       "      <th>BI-RADS_4.0</th>\n",
       "      <th>BI-RADS_5.0</th>\n",
       "      <th>BI-RADS_6.0</th>\n",
       "      <th>BI-RADS_55.0</th>\n",
       "    </tr>\n",
       "  </thead>\n",
       "  <tbody>\n",
       "    <tr>\n",
       "      <th>0</th>\n",
       "      <td>5.0</td>\n",
       "      <td>67.0</td>\n",
       "      <td>3.0</td>\n",
       "      <td>5.0</td>\n",
       "      <td>3.0</td>\n",
       "      <td>1</td>\n",
       "      <td>0</td>\n",
       "      <td>0</td>\n",
       "      <td>0</td>\n",
       "      <td>0</td>\n",
       "      <td>1</td>\n",
       "      <td>0</td>\n",
       "      <td>0</td>\n",
       "    </tr>\n",
       "    <tr>\n",
       "      <th>2</th>\n",
       "      <td>5.0</td>\n",
       "      <td>58.0</td>\n",
       "      <td>4.0</td>\n",
       "      <td>5.0</td>\n",
       "      <td>3.0</td>\n",
       "      <td>1</td>\n",
       "      <td>0</td>\n",
       "      <td>0</td>\n",
       "      <td>0</td>\n",
       "      <td>0</td>\n",
       "      <td>1</td>\n",
       "      <td>0</td>\n",
       "      <td>0</td>\n",
       "    </tr>\n",
       "    <tr>\n",
       "      <th>3</th>\n",
       "      <td>4.0</td>\n",
       "      <td>28.0</td>\n",
       "      <td>1.0</td>\n",
       "      <td>1.0</td>\n",
       "      <td>3.0</td>\n",
       "      <td>0</td>\n",
       "      <td>0</td>\n",
       "      <td>0</td>\n",
       "      <td>0</td>\n",
       "      <td>1</td>\n",
       "      <td>0</td>\n",
       "      <td>0</td>\n",
       "      <td>0</td>\n",
       "    </tr>\n",
       "    <tr>\n",
       "      <th>8</th>\n",
       "      <td>5.0</td>\n",
       "      <td>57.0</td>\n",
       "      <td>1.0</td>\n",
       "      <td>5.0</td>\n",
       "      <td>3.0</td>\n",
       "      <td>1</td>\n",
       "      <td>0</td>\n",
       "      <td>0</td>\n",
       "      <td>0</td>\n",
       "      <td>0</td>\n",
       "      <td>1</td>\n",
       "      <td>0</td>\n",
       "      <td>0</td>\n",
       "    </tr>\n",
       "    <tr>\n",
       "      <th>10</th>\n",
       "      <td>5.0</td>\n",
       "      <td>76.0</td>\n",
       "      <td>1.0</td>\n",
       "      <td>4.0</td>\n",
       "      <td>3.0</td>\n",
       "      <td>1</td>\n",
       "      <td>0</td>\n",
       "      <td>0</td>\n",
       "      <td>0</td>\n",
       "      <td>0</td>\n",
       "      <td>1</td>\n",
       "      <td>0</td>\n",
       "      <td>0</td>\n",
       "    </tr>\n",
       "  </tbody>\n",
       "</table>\n",
       "</div>"
      ],
      "text/plain": [
       "    BI-RADS   AGE  SHAPE  MARGIN  DENSITY  SEVERITY  BI-RADS_0.0  BI-RADS_2.0  \\\n",
       "0       5.0  67.0    3.0     5.0      3.0         1            0            0   \n",
       "2       5.0  58.0    4.0     5.0      3.0         1            0            0   \n",
       "3       4.0  28.0    1.0     1.0      3.0         0            0            0   \n",
       "8       5.0  57.0    1.0     5.0      3.0         1            0            0   \n",
       "10      5.0  76.0    1.0     4.0      3.0         1            0            0   \n",
       "\n",
       "    BI-RADS_3.0  BI-RADS_4.0  BI-RADS_5.0  BI-RADS_6.0  BI-RADS_55.0  \n",
       "0             0            0            1            0             0  \n",
       "2             0            0            1            0             0  \n",
       "3             0            1            0            0             0  \n",
       "8             0            0            1            0             0  \n",
       "10            0            0            1            0             0  "
      ]
     },
     "execution_count": 9,
     "metadata": {},
     "output_type": "execute_result"
    }
   ],
   "source": [
    "df2 = pd.get_dummies(df['BI-RADS'], prefix='BI-RADS')\n",
    "df2 = pd.DataFrame(df2)\n",
    "df2.dropna(inplace = True)\n",
    "df = pd.concat([df,df2], axis = 1, sort = False, join = \"inner\").dropna(axis = 0)\n",
    "df.head()"
   ]
  },
  {
   "cell_type": "markdown",
   "metadata": {},
   "source": [
    "# DATA VISUALIZATION AND ANALYSIS"
   ]
  },
  {
   "cell_type": "markdown",
   "metadata": {},
   "source": [
    "Firstly, the distribution of this data set should be visualized as it provides more insight into our existing dataframe."
   ]
  },
  {
   "cell_type": "code",
   "execution_count": 10,
   "metadata": {},
   "outputs": [
    {
     "name": "stderr",
     "output_type": "stream",
     "text": [
      "/opt/anaconda3/lib/python3.7/site-packages/ipykernel_launcher.py:3: MatplotlibDeprecationWarning: Adding an axes using the same arguments as a previous axes currently reuses the earlier instance.  In a future version, a new instance will always be created and returned.  Meanwhile, this warning can be suppressed, and the future behavior ensured, by passing a unique label to each axes instance.\n",
      "  This is separate from the ipykernel package so we can avoid doing imports until\n"
     ]
    },
    {
     "data": {
      "image/png": "[encoded data removed]",
      "text/plain": [
       "<Figure size 432x288 with 1 Axes>"
      ]
     },
     "metadata": {},
     "output_type": "display_data"
    }
   ],
   "source": [
    "plt.hist(df['SEVERITY'])\n",
    "plt.title(\"DISTRIBUTION OF DATASET\")\n",
    "axes = plt.axes()\n",
    "axes.set_xticks([0,1])\n",
    "plt.show()\n",
    "\n"
   ]
  },
  {
   "cell_type": "markdown",
   "metadata": {},
   "source": [
    "Our dataset is relatively evenly distributed as shown by the histogram plotted above. Next correlations between various attributes will be visualized if any exist as well as the distribution of other attributes in the dataset."
   ]
  },
  {
   "cell_type": "code",
   "execution_count": 11,
   "metadata": {},
   "outputs": [],
   "source": [
    "rel = df[['BI-RADS', 'AGE', 'SHAPE', 'MARGIN', 'DENSITY', 'SEVERITY']]\n",
    "corr = rel.corr()"
   ]
  },
  {
   "cell_type": "code",
   "execution_count": 12,
   "metadata": {},
   "outputs": [
    {
     "data": {
      "text/plain": [
       "<seaborn.axisgrid.PairGrid at 0x1a1f1ed050>"
      ]
     },
     "execution_count": 12,
     "metadata": {},
     "output_type": "execute_result"
    },
    {
     "data": {
      "image/png": "[encoded data removed]",
      "text/plain": [
       "<Figure size 1080x1080 with 42 Axes>"
      ]
     },
     "metadata": {},
     "output_type": "display_data"
    }
   ],
   "source": [
    "sns.pairplot(rel)"
   ]
  },
  {
   "cell_type": "code",
   "execution_count": 13,
   "metadata": {},
   "outputs": [
    {
     "data": {
      "image/png": "[encoded data removed]",
      "text/plain": [
       "<Figure size 432x288 with 2 Axes>"
      ]
     },
     "metadata": {},
     "output_type": "display_data"
    }
   ],
   "source": [
    "ax = sns.heatmap(\n",
    "    corr, \n",
    "    vmin=-1, vmax=1, center=0,\n",
    "    cmap='viridis',\n",
    "    square=True\n",
    ")\n",
    "ax.set_xticklabels(\n",
    "    ax.get_xticklabels(),\n",
    "    rotation=45,\n",
    "    horizontalalignment='right'\n",
    ");"
   ]
  },
  {
   "cell_type": "raw",
   "metadata": {},
   "source": [
    "Above is the heat map for the given dataset"
   ]
  },
  {
   "cell_type": "markdown",
   "metadata": {},
   "source": [
    "For datasets in multiple dimensions, a PCA is used to reduce the number of applicable dimensions. In this dataset, the number of attributes i.e. dimensions exists in 4 dimensions so it could be used as it is. \n",
    "However, a PCA shall still be applied and analyzed in the given dataset."
   ]
  },
  {
   "cell_type": "markdown",
   "metadata": {},
   "source": [
    "# PRINCIPAL COMPONENT ANALYSIS/ REDUCTION OF DIMENSIONALITY"
   ]
  },
  {
   "cell_type": "code",
   "execution_count": 14,
   "metadata": {},
   "outputs": [],
   "source": [
    "from sklearn.decomposition import PCA\n",
    "from sklearn.preprocessing import StandardScaler\n",
    "\n",
    "scale = StandardScaler()\n",
    "\n",
    "features = df[['AGE', 'SHAPE', 'MARGIN', 'DENSITY']].dropna()\n",
    "features.head()\n",
    "\n",
    "feature_values = features.values\n",
    "feature_values = scale.fit_transform(feature_values)\n",
    "\n",
    "pca = PCA(n_components = 2, whiten = True).fit(feature_values)\n",
    "features_pca = pca.transform(feature_values)\n"
   ]
  },
  {
   "cell_type": "markdown",
   "metadata": {},
   "source": [
    "By doing so, we have managed to scale our 4 dimensional data (Age, Shape, Margin, Density) down to two dimension. We shall now run a variance ratio to see how much information we are able to preserve by doing so.\n"
   ]
  },
  {
   "cell_type": "code",
   "execution_count": 15,
   "metadata": {},
   "outputs": [
    {
     "name": "stdout",
     "output_type": "stream",
     "text": [
      "0.7620261007963499\n"
     ]
    }
   ],
   "source": [
    "Score = sum(pca.explained_variance_ratio_)\n",
    "print(Score)"
   ]
  },
  {
   "cell_type": "markdown",
   "metadata": {},
   "source": [
    "In scaling our data down to 2 dimensions we have managed to preserve 76.19% percent of information required. Subsequently, we shall process using these 4 dimensions instead."
   ]
  },
  {
   "cell_type": "markdown",
   "metadata": {},
   "source": [
    "# MODELLING"
   ]
  },
  {
   "cell_type": "markdown",
   "metadata": {},
   "source": [
    "With our given dataset, it is easy to discard the BI-RADS Assessment as the BI-RADS is not a predictive attribute but rather a measure of confidence of our assessment on the nature of mass. \n",
    "\n",
    "However, with by treating this as a combination of Binary Classification problem in the case of (Malignant or Benign), this can be achieved."
   ]
  },
  {
   "cell_type": "markdown",
   "metadata": {},
   "source": [
    "# DATA NORMALIZATION"
   ]
  },
  {
   "cell_type": "markdown",
   "metadata": {},
   "source": [
    "Firstly, to ensure our models are trained to work as expected, all input variables must be normalized as such we shall make use of the normalized feature data above."
   ]
  },
  {
   "cell_type": "markdown",
   "metadata": {},
   "source": [
    "# MULTI-LAYER PERCEPTRON MODEL"
   ]
  },
  {
   "cell_type": "markdown",
   "metadata": {},
   "source": [
    "Necessary imports from the tensorflow package are made. A multi-layer perceptron model is chosen as opposed to other binary classification problems because this is in itself a mult-label classification problem."
   ]
  },
  {
   "cell_type": "code",
   "execution_count": 25,
   "metadata": {},
   "outputs": [],
   "source": [
    "from skmultilearn.model_selection import iterative_train_test_split\n",
    "from tensorflow.keras.models import Sequential\n",
    "from tensorflow.keras.layers import Dense, Dropout, Flatten\n",
    "from tensorflow.keras.layers import Conv1D, MaxPooling1D\n",
    "\n",
    "y = df[['BI-RADS_0.0','BI-RADS_2.0','BI-RADS_3.0','BI-RADS_4.0','BI-RADS_5.0','BI-RADS_6.0']].values #label data is chosen\n",
    "X_train, y_train, X_test, y_test = iterative_train_test_split(feature_values, y, test_size = 0.5) #an iterative train split is used for the multi-label classification problem\n",
    "X_train = np.reshape(X_train, (X_train.shape[0], 1, X_train.shape[1]))#data is reshaped to make it compatible for the CONV1D\n",
    "X_test = np.reshape(X_test, (X_test.shape[0], 1, X_test.shape[1]))#data is reshaped to make it compatible for the CONV1D\n",
    "\n"
   ]
  },
  {
   "cell_type": "markdown",
   "metadata": {},
   "source": [
    "# NEURAL NETWORK"
   ]
  },
  {
   "cell_type": "markdown",
   "metadata": {},
   "source": [
    "A sequential model was chosen using a CNN. Typically CNNs (Convoluted Neural Networks) are used for image data but for this problem I deemed it more appropriate than a Recurrent Neural Network. CNNs accept 3d input data so the data had to be resized appropriately for this problem.\n",
    "\n",
    "A final sigmoid layer was chosen opposed to a softmax layer because the individual probabilities are independent of one another as opposed to a softmax layer."
   ]
  },
  {
   "cell_type": "code",
   "execution_count": 29,
   "metadata": {},
   "outputs": [],
   "source": [
    "model = Sequential()\n",
    "model.add(Conv1D(filters=4, kernel_size=(1), activation=\"relu\", input_shape=(1,4)))\n",
    "model.add(Dropout(0.25))\n",
    "model.add(Conv1D(filters=32, kernel_size=(1), activation='relu'))\n",
    "model.add(Dropout(0.25))\n",
    "model.add(Conv1D(filters=64, kernel_size=(1), activation=\"relu\"))\n",
    "model.add(Dropout(0.25))\n",
    "model.add(Conv1D(filters=64, kernel_size=(1), activation='relu'))\n",
    "model.add(Dropout(0.25))\n",
    "model.add(Flatten())\n",
    "model.add(Dense(128, activation='relu'))\n",
    "model.add(Dropout(0.5))\n",
    "model.add(Dense(64, activation='relu'))\n",
    "model.add(Dropout(0.5))\n",
    "model.add(Flatten())\n",
    "model.add(Dense(6, activation='sigmoid'))\n",
    "model.compile(optimizer='adam', loss='binary_crossentropy', metrics=['accuracy'])\n",
    "\n",
    "\n"
   ]
  },
  {
   "cell_type": "markdown",
   "metadata": {},
   "source": [
    "# MODEL SUMMARY"
   ]
  },
  {
   "cell_type": "code",
   "execution_count": 30,
   "metadata": {},
   "outputs": [
    {
     "name": "stdout",
     "output_type": "stream",
     "text": [
      "Model: \"sequential_3\"\n",
      "_________________________________________________________________\n",
      "Layer (type)                 Output Shape              Param #   \n",
      "=================================================================\n",
      "conv1d_12 (Conv1D)           (None, 1, 4)              20        \n",
      "_________________________________________________________________\n",
      "dropout_18 (Dropout)         (None, 1, 4)              0         \n",
      "_________________________________________________________________\n",
      "conv1d_13 (Conv1D)           (None, 1, 32)             160       \n",
      "_________________________________________________________________\n",
      "dropout_19 (Dropout)         (None, 1, 32)             0         \n",
      "_________________________________________________________________\n",
      "conv1d_14 (Conv1D)           (None, 1, 64)             2112      \n",
      "_________________________________________________________________\n",
      "dropout_20 (Dropout)         (None, 1, 64)             0         \n",
      "_________________________________________________________________\n",
      "conv1d_15 (Conv1D)           (None, 1, 64)             4160      \n",
      "_________________________________________________________________\n",
      "dropout_21 (Dropout)         (None, 1, 64)             0         \n",
      "_________________________________________________________________\n",
      "flatten_6 (Flatten)          (None, 64)                0         \n",
      "_________________________________________________________________\n",
      "dense_9 (Dense)              (None, 128)               8320      \n",
      "_________________________________________________________________\n",
      "dropout_22 (Dropout)         (None, 128)               0         \n",
      "_________________________________________________________________\n",
      "dense_10 (Dense)             (None, 64)                8256      \n",
      "_________________________________________________________________\n",
      "dropout_23 (Dropout)         (None, 64)                0         \n",
      "_________________________________________________________________\n",
      "flatten_7 (Flatten)          (None, 64)                0         \n",
      "_________________________________________________________________\n",
      "dense_11 (Dense)             (None, 6)                 390       \n",
      "=================================================================\n",
      "Total params: 23,418\n",
      "Trainable params: 23,418\n",
      "Non-trainable params: 0\n",
      "_________________________________________________________________\n"
     ]
    }
   ],
   "source": [
    "model.summary()"
   ]
  },
  {
   "cell_type": "code",
   "execution_count": 31,
   "metadata": {},
   "outputs": [
    {
     "name": "stdout",
     "output_type": "stream",
     "text": [
      "Train on 415 samples, validate on 415 samples\n",
      "Epoch 1/100\n",
      "415/415 [==============================] - 2s 5ms/sample - loss: 0.6766 - accuracy: 0.6695 - val_loss: 0.6516 - val_accuracy: 0.8341\n",
      "Epoch 2/100\n",
      "415/415 [==============================] - 0s 319us/sample - loss: 0.6242 - accuracy: 0.7956 - val_loss: 0.5878 - val_accuracy: 0.8337\n",
      "Epoch 3/100\n",
      "415/415 [==============================] - 0s 319us/sample - loss: 0.5461 - accuracy: 0.8285 - val_loss: 0.4856 - val_accuracy: 0.8337\n",
      "Epoch 4/100\n",
      "415/415 [==============================] - 0s 318us/sample - loss: 0.4592 - accuracy: 0.8173 - val_loss: 0.3740 - val_accuracy: 0.8337\n",
      "Epoch 5/100\n",
      "415/415 [==============================] - 0s 313us/sample - loss: 0.3965 - accuracy: 0.8257 - val_loss: 0.3075 - val_accuracy: 0.8337\n",
      "Epoch 6/100\n",
      "415/415 [==============================] - 0s 310us/sample - loss: 0.3812 - accuracy: 0.8277 - val_loss: 0.2864 - val_accuracy: 0.8582\n",
      "Epoch 7/100\n",
      "415/415 [==============================] - 0s 316us/sample - loss: 0.3665 - accuracy: 0.8269 - val_loss: 0.2819 - val_accuracy: 0.8550\n",
      "Epoch 8/100\n",
      "415/415 [==============================] - 0s 310us/sample - loss: 0.3471 - accuracy: 0.8305 - val_loss: 0.2815 - val_accuracy: 0.8550\n",
      "Epoch 9/100\n",
      "415/415 [==============================] - 0s 318us/sample - loss: 0.3308 - accuracy: 0.8341 - val_loss: 0.2822 - val_accuracy: 0.8550\n",
      "Epoch 10/100\n",
      "415/415 [==============================] - 0s 332us/sample - loss: 0.3217 - accuracy: 0.8394 - val_loss: 0.2770 - val_accuracy: 0.8659\n",
      "Epoch 11/100\n",
      "415/415 [==============================] - 0s 324us/sample - loss: 0.3079 - accuracy: 0.8373 - val_loss: 0.2708 - val_accuracy: 0.8663\n",
      "Epoch 12/100\n",
      "415/415 [==============================] - 0s 325us/sample - loss: 0.3070 - accuracy: 0.8406 - val_loss: 0.2665 - val_accuracy: 0.8771\n",
      "Epoch 13/100\n",
      "415/415 [==============================] - 0s 309us/sample - loss: 0.2988 - accuracy: 0.8418 - val_loss: 0.2612 - val_accuracy: 0.8835\n",
      "Epoch 14/100\n",
      "415/415 [==============================] - 0s 308us/sample - loss: 0.2973 - accuracy: 0.8382 - val_loss: 0.2575 - val_accuracy: 0.8863\n",
      "Epoch 15/100\n",
      "415/415 [==============================] - 0s 308us/sample - loss: 0.2889 - accuracy: 0.8526 - val_loss: 0.2542 - val_accuracy: 0.8847\n",
      "Epoch 16/100\n",
      "415/415 [==============================] - 0s 309us/sample - loss: 0.2910 - accuracy: 0.8478 - val_loss: 0.2530 - val_accuracy: 0.8968\n",
      "Epoch 17/100\n",
      "415/415 [==============================] - 0s 329us/sample - loss: 0.2863 - accuracy: 0.8566 - val_loss: 0.2490 - val_accuracy: 0.8976\n",
      "Epoch 18/100\n",
      "415/415 [==============================] - 0s 324us/sample - loss: 0.2830 - accuracy: 0.8618 - val_loss: 0.2442 - val_accuracy: 0.8988\n",
      "Epoch 19/100\n",
      "415/415 [==============================] - 0s 323us/sample - loss: 0.2794 - accuracy: 0.8743 - val_loss: 0.2420 - val_accuracy: 0.9004\n",
      "Epoch 20/100\n",
      "415/415 [==============================] - 0s 320us/sample - loss: 0.2807 - accuracy: 0.8655 - val_loss: 0.2397 - val_accuracy: 0.9048\n",
      "Epoch 21/100\n",
      "415/415 [==============================] - 0s 322us/sample - loss: 0.2638 - accuracy: 0.8763 - val_loss: 0.2376 - val_accuracy: 0.9072\n",
      "Epoch 22/100\n",
      "415/415 [==============================] - 0s 328us/sample - loss: 0.2676 - accuracy: 0.8695 - val_loss: 0.2344 - val_accuracy: 0.9092\n",
      "Epoch 23/100\n",
      "415/415 [==============================] - 0s 344us/sample - loss: 0.2723 - accuracy: 0.8671 - val_loss: 0.2321 - val_accuracy: 0.9124\n",
      "Epoch 24/100\n",
      "415/415 [==============================] - 0s 309us/sample - loss: 0.2790 - accuracy: 0.8739 - val_loss: 0.2304 - val_accuracy: 0.9112\n",
      "Epoch 25/100\n",
      "415/415 [==============================] - 0s 334us/sample - loss: 0.2771 - accuracy: 0.8707 - val_loss: 0.2287 - val_accuracy: 0.9108\n",
      "Epoch 26/100\n",
      "415/415 [==============================] - 0s 327us/sample - loss: 0.2801 - accuracy: 0.8671 - val_loss: 0.2304 - val_accuracy: 0.9124\n",
      "Epoch 27/100\n",
      "415/415 [==============================] - 0s 324us/sample - loss: 0.2635 - accuracy: 0.8807 - val_loss: 0.2306 - val_accuracy: 0.9116\n",
      "Epoch 28/100\n",
      "415/415 [==============================] - 0s 325us/sample - loss: 0.2521 - accuracy: 0.8851 - val_loss: 0.2287 - val_accuracy: 0.9116\n",
      "Epoch 29/100\n",
      "415/415 [==============================] - 0s 307us/sample - loss: 0.2668 - accuracy: 0.8739 - val_loss: 0.2268 - val_accuracy: 0.9112\n",
      "Epoch 30/100\n",
      "415/415 [==============================] - 0s 310us/sample - loss: 0.2551 - accuracy: 0.8819 - val_loss: 0.2256 - val_accuracy: 0.9100\n",
      "Epoch 31/100\n",
      "415/415 [==============================] - 0s 316us/sample - loss: 0.2567 - accuracy: 0.8811 - val_loss: 0.2253 - val_accuracy: 0.9108\n",
      "Epoch 32/100\n",
      "415/415 [==============================] - 0s 313us/sample - loss: 0.2590 - accuracy: 0.8876 - val_loss: 0.2247 - val_accuracy: 0.9124\n",
      "Epoch 33/100\n",
      "415/415 [==============================] - 0s 306us/sample - loss: 0.2528 - accuracy: 0.8871 - val_loss: 0.2242 - val_accuracy: 0.9120\n",
      "Epoch 34/100\n",
      "415/415 [==============================] - 0s 340us/sample - loss: 0.2559 - accuracy: 0.8920 - val_loss: 0.2241 - val_accuracy: 0.9129\n",
      "Epoch 35/100\n",
      "415/415 [==============================] - 0s 338us/sample - loss: 0.2598 - accuracy: 0.8795 - val_loss: 0.2244 - val_accuracy: 0.9112\n",
      "Epoch 36/100\n",
      "415/415 [==============================] - 0s 323us/sample - loss: 0.2628 - accuracy: 0.8924 - val_loss: 0.2240 - val_accuracy: 0.9112\n",
      "Epoch 37/100\n",
      "415/415 [==============================] - 0s 337us/sample - loss: 0.2431 - accuracy: 0.8984 - val_loss: 0.2213 - val_accuracy: 0.9108\n",
      "Epoch 38/100\n",
      "415/415 [==============================] - 0s 335us/sample - loss: 0.2494 - accuracy: 0.8956 - val_loss: 0.2194 - val_accuracy: 0.9112\n",
      "Epoch 39/100\n",
      "415/415 [==============================] - 0s 329us/sample - loss: 0.2527 - accuracy: 0.8920 - val_loss: 0.2189 - val_accuracy: 0.9116\n",
      "Epoch 40/100\n",
      "415/415 [==============================] - 0s 355us/sample - loss: 0.2496 - accuracy: 0.8912 - val_loss: 0.2177 - val_accuracy: 0.9116\n",
      "Epoch 41/100\n",
      "415/415 [==============================] - 0s 351us/sample - loss: 0.2573 - accuracy: 0.8863 - val_loss: 0.2172 - val_accuracy: 0.9116\n",
      "Epoch 42/100\n",
      "415/415 [==============================] - 0s 393us/sample - loss: 0.2455 - accuracy: 0.8936 - val_loss: 0.2176 - val_accuracy: 0.9120\n",
      "Epoch 43/100\n",
      "415/415 [==============================] - 0s 356us/sample - loss: 0.2418 - accuracy: 0.9012 - val_loss: 0.2182 - val_accuracy: 0.9129\n",
      "Epoch 44/100\n",
      "415/415 [==============================] - 0s 385us/sample - loss: 0.2353 - accuracy: 0.8988 - val_loss: 0.2177 - val_accuracy: 0.9137\n",
      "Epoch 45/100\n",
      "415/415 [==============================] - 0s 374us/sample - loss: 0.2446 - accuracy: 0.9000 - val_loss: 0.2164 - val_accuracy: 0.9137\n",
      "Epoch 46/100\n",
      "415/415 [==============================] - 0s 363us/sample - loss: 0.2386 - accuracy: 0.9020 - val_loss: 0.2158 - val_accuracy: 0.9149\n",
      "Epoch 47/100\n",
      "415/415 [==============================] - 0s 379us/sample - loss: 0.2441 - accuracy: 0.8968 - val_loss: 0.2153 - val_accuracy: 0.9149\n",
      "Epoch 48/100\n",
      "415/415 [==============================] - 0s 375us/sample - loss: 0.2428 - accuracy: 0.9000 - val_loss: 0.2164 - val_accuracy: 0.9141\n",
      "Epoch 49/100\n",
      "415/415 [==============================] - 0s 369us/sample - loss: 0.2389 - accuracy: 0.8928 - val_loss: 0.2189 - val_accuracy: 0.9145\n",
      "Epoch 50/100\n",
      "415/415 [==============================] - 0s 397us/sample - loss: 0.2379 - accuracy: 0.9024 - val_loss: 0.2178 - val_accuracy: 0.9145\n",
      "Epoch 51/100\n",
      "415/415 [==============================] - 0s 386us/sample - loss: 0.2493 - accuracy: 0.8988 - val_loss: 0.2171 - val_accuracy: 0.9145\n",
      "Epoch 52/100\n",
      "415/415 [==============================] - 0s 381us/sample - loss: 0.2384 - accuracy: 0.8952 - val_loss: 0.2166 - val_accuracy: 0.9145\n",
      "Epoch 53/100\n",
      "415/415 [==============================] - 0s 370us/sample - loss: 0.2482 - accuracy: 0.8916 - val_loss: 0.2173 - val_accuracy: 0.9137\n",
      "Epoch 54/100\n",
      "415/415 [==============================] - 0s 379us/sample - loss: 0.2338 - accuracy: 0.9068 - val_loss: 0.2181 - val_accuracy: 0.9124\n",
      "Epoch 55/100\n",
      "415/415 [==============================] - 0s 381us/sample - loss: 0.2336 - accuracy: 0.9048 - val_loss: 0.2181 - val_accuracy: 0.9124\n",
      "Epoch 56/100\n"
     ]
    },
    {
     "name": "stdout",
     "output_type": "stream",
     "text": [
      "415/415 [==============================] - 0s 422us/sample - loss: 0.2389 - accuracy: 0.9036 - val_loss: 0.2161 - val_accuracy: 0.9141\n",
      "Epoch 57/100\n",
      "415/415 [==============================] - 0s 358us/sample - loss: 0.2502 - accuracy: 0.9016 - val_loss: 0.2151 - val_accuracy: 0.9137\n",
      "Epoch 58/100\n",
      "415/415 [==============================] - 0s 384us/sample - loss: 0.2384 - accuracy: 0.8968 - val_loss: 0.2167 - val_accuracy: 0.9133\n",
      "Epoch 59/100\n",
      "415/415 [==============================] - 0s 380us/sample - loss: 0.2336 - accuracy: 0.9072 - val_loss: 0.2160 - val_accuracy: 0.9129\n",
      "Epoch 60/100\n",
      "415/415 [==============================] - 0s 386us/sample - loss: 0.2480 - accuracy: 0.8952 - val_loss: 0.2166 - val_accuracy: 0.9120\n",
      "Epoch 61/100\n",
      "415/415 [==============================] - 0s 390us/sample - loss: 0.2361 - accuracy: 0.8980 - val_loss: 0.2164 - val_accuracy: 0.9129\n",
      "Epoch 62/100\n",
      "415/415 [==============================] - 0s 380us/sample - loss: 0.2437 - accuracy: 0.8980 - val_loss: 0.2154 - val_accuracy: 0.9141\n",
      "Epoch 63/100\n",
      "415/415 [==============================] - 0s 366us/sample - loss: 0.2400 - accuracy: 0.8908 - val_loss: 0.2151 - val_accuracy: 0.9129\n",
      "Epoch 64/100\n",
      "415/415 [==============================] - 0s 373us/sample - loss: 0.2379 - accuracy: 0.9036 - val_loss: 0.2156 - val_accuracy: 0.9141\n",
      "Epoch 65/100\n",
      "415/415 [==============================] - 0s 360us/sample - loss: 0.2391 - accuracy: 0.9048 - val_loss: 0.2164 - val_accuracy: 0.9133\n",
      "Epoch 66/100\n",
      "415/415 [==============================] - 0s 364us/sample - loss: 0.2419 - accuracy: 0.8972 - val_loss: 0.2167 - val_accuracy: 0.9124\n",
      "Epoch 67/100\n",
      "415/415 [==============================] - 0s 367us/sample - loss: 0.2242 - accuracy: 0.9088 - val_loss: 0.2155 - val_accuracy: 0.9124\n",
      "Epoch 68/100\n",
      "415/415 [==============================] - 0s 365us/sample - loss: 0.2370 - accuracy: 0.9000 - val_loss: 0.2147 - val_accuracy: 0.9104\n",
      "Epoch 69/100\n",
      "415/415 [==============================] - 0s 364us/sample - loss: 0.2384 - accuracy: 0.9024 - val_loss: 0.2155 - val_accuracy: 0.9116\n",
      "Epoch 70/100\n",
      "415/415 [==============================] - 0s 372us/sample - loss: 0.2309 - accuracy: 0.9036 - val_loss: 0.2154 - val_accuracy: 0.9116\n",
      "Epoch 71/100\n",
      "415/415 [==============================] - 0s 373us/sample - loss: 0.2215 - accuracy: 0.9100 - val_loss: 0.2149 - val_accuracy: 0.9120\n",
      "Epoch 72/100\n",
      "415/415 [==============================] - 0s 367us/sample - loss: 0.2430 - accuracy: 0.9028 - val_loss: 0.2143 - val_accuracy: 0.9133\n",
      "Epoch 73/100\n",
      "415/415 [==============================] - 0s 360us/sample - loss: 0.2282 - accuracy: 0.9048 - val_loss: 0.2146 - val_accuracy: 0.9120\n",
      "Epoch 74/100\n",
      "415/415 [==============================] - 0s 359us/sample - loss: 0.2360 - accuracy: 0.9016 - val_loss: 0.2155 - val_accuracy: 0.9133\n",
      "Epoch 75/100\n",
      "415/415 [==============================] - 0s 374us/sample - loss: 0.2444 - accuracy: 0.8960 - val_loss: 0.2168 - val_accuracy: 0.9133\n",
      "Epoch 76/100\n",
      "415/415 [==============================] - 0s 362us/sample - loss: 0.2408 - accuracy: 0.8980 - val_loss: 0.2167 - val_accuracy: 0.9137\n",
      "Epoch 77/100\n",
      "415/415 [==============================] - 0s 357us/sample - loss: 0.2347 - accuracy: 0.9032 - val_loss: 0.2150 - val_accuracy: 0.9141\n",
      "Epoch 78/100\n",
      "415/415 [==============================] - 0s 369us/sample - loss: 0.2325 - accuracy: 0.9024 - val_loss: 0.2142 - val_accuracy: 0.9133\n",
      "Epoch 79/100\n",
      "415/415 [==============================] - 0s 349us/sample - loss: 0.2375 - accuracy: 0.9032 - val_loss: 0.2142 - val_accuracy: 0.9133\n",
      "Epoch 80/100\n",
      "415/415 [==============================] - 0s 364us/sample - loss: 0.2341 - accuracy: 0.9056 - val_loss: 0.2139 - val_accuracy: 0.9133\n",
      "Epoch 81/100\n",
      "415/415 [==============================] - 0s 357us/sample - loss: 0.2401 - accuracy: 0.9008 - val_loss: 0.2147 - val_accuracy: 0.9133\n",
      "Epoch 82/100\n",
      "415/415 [==============================] - 0s 369us/sample - loss: 0.2350 - accuracy: 0.8968 - val_loss: 0.2146 - val_accuracy: 0.9133\n",
      "Epoch 83/100\n",
      "415/415 [==============================] - 0s 352us/sample - loss: 0.2323 - accuracy: 0.9032 - val_loss: 0.2136 - val_accuracy: 0.9133\n",
      "Epoch 84/100\n",
      "415/415 [==============================] - 0s 356us/sample - loss: 0.2364 - accuracy: 0.9080 - val_loss: 0.2137 - val_accuracy: 0.9124\n",
      "Epoch 85/100\n",
      "415/415 [==============================] - 0s 362us/sample - loss: 0.2207 - accuracy: 0.9124 - val_loss: 0.2131 - val_accuracy: 0.9124\n",
      "Epoch 86/100\n",
      "415/415 [==============================] - 0s 366us/sample - loss: 0.2255 - accuracy: 0.9040 - val_loss: 0.2135 - val_accuracy: 0.9116\n",
      "Epoch 87/100\n",
      "415/415 [==============================] - 0s 369us/sample - loss: 0.2299 - accuracy: 0.9088 - val_loss: 0.2139 - val_accuracy: 0.9112\n",
      "Epoch 88/100\n",
      "415/415 [==============================] - 0s 366us/sample - loss: 0.2288 - accuracy: 0.9028 - val_loss: 0.2140 - val_accuracy: 0.9116\n",
      "Epoch 89/100\n",
      "415/415 [==============================] - 0s 371us/sample - loss: 0.2262 - accuracy: 0.9088 - val_loss: 0.2133 - val_accuracy: 0.9116\n",
      "Epoch 90/100\n",
      "415/415 [==============================] - 0s 365us/sample - loss: 0.2330 - accuracy: 0.9040 - val_loss: 0.2141 - val_accuracy: 0.9116\n",
      "Epoch 91/100\n",
      "415/415 [==============================] - 0s 369us/sample - loss: 0.2322 - accuracy: 0.9056 - val_loss: 0.2142 - val_accuracy: 0.9112\n",
      "Epoch 92/100\n",
      "415/415 [==============================] - 0s 357us/sample - loss: 0.2265 - accuracy: 0.9068 - val_loss: 0.2140 - val_accuracy: 0.9116\n",
      "Epoch 93/100\n",
      "415/415 [==============================] - 0s 365us/sample - loss: 0.2367 - accuracy: 0.9100 - val_loss: 0.2139 - val_accuracy: 0.9112\n",
      "Epoch 94/100\n",
      "415/415 [==============================] - 0s 375us/sample - loss: 0.2356 - accuracy: 0.9016 - val_loss: 0.2139 - val_accuracy: 0.9116\n",
      "Epoch 95/100\n",
      "415/415 [==============================] - 0s 374us/sample - loss: 0.2348 - accuracy: 0.9024 - val_loss: 0.2141 - val_accuracy: 0.9112\n",
      "Epoch 96/100\n",
      "415/415 [==============================] - 0s 372us/sample - loss: 0.2247 - accuracy: 0.9048 - val_loss: 0.2139 - val_accuracy: 0.9112\n",
      "Epoch 97/100\n",
      "415/415 [==============================] - 0s 365us/sample - loss: 0.2325 - accuracy: 0.9000 - val_loss: 0.2138 - val_accuracy: 0.9112\n",
      "Epoch 98/100\n",
      "415/415 [==============================] - 0s 374us/sample - loss: 0.2274 - accuracy: 0.9145 - val_loss: 0.2140 - val_accuracy: 0.9112\n",
      "Epoch 99/100\n",
      "415/415 [==============================] - 0s 368us/sample - loss: 0.2286 - accuracy: 0.8960 - val_loss: 0.2145 - val_accuracy: 0.9112\n",
      "Epoch 100/100\n",
      "415/415 [==============================] - 0s 368us/sample - loss: 0.2266 - accuracy: 0.9040 - val_loss: 0.2146 - val_accuracy: 0.9112\n"
     ]
    },
    {
     "data": {
      "text/plain": [
       "<tensorflow.python.keras.callbacks.History at 0x1a5608a490>"
      ]
     },
     "execution_count": 31,
     "metadata": {},
     "output_type": "execute_result"
    }
   ],
   "source": [
    "model.fit(X_train, y_train, epochs = 100, validation_data = (X_test,y_test), batch_size = 64)"
   ]
  },
  {
   "cell_type": "markdown",
   "metadata": {},
   "source": [
    "Using a training data and our test data as validation data our CNN model was trained. With 100 epochs and a batch size of 64 we have a resulting accuracy of about 91.12%."
   ]
  },
  {
   "cell_type": "markdown",
   "metadata": {},
   "source": [
    "Now that the first neural network is set up we can now work on a second neural network to classify the tumor itself on basis of severity"
   ]
  },
  {
   "cell_type": "code",
   "execution_count": 42,
   "metadata": {},
   "outputs": [],
   "source": [
    "model_2 = Sequential()\n",
    "model_2.add(Dense(6, input_dim=4, kernel_initializer='normal', activation='relu'))\n",
    "model_2.add(Dense(4, kernel_initializer='normal', activation='relu'))\n",
    "model_2.add(Dense(1, kernel_initializer='normal', activation='sigmoid'))\n",
    "model_2.compile(loss='binary_crossentropy', optimizer='adam', metrics=['accuracy'])"
   ]
  },
  {
   "cell_type": "code",
   "execution_count": 45,
   "metadata": {},
   "outputs": [
    {
     "name": "stdout",
     "output_type": "stream",
     "text": [
      "Train on 415 samples, validate on 415 samples\n",
      "Epoch 1/100\n",
      "415/415 [==============================] - 0s 260us/sample - loss: 0.4530 - accuracy: 0.8096 - val_loss: 0.4503 - val_accuracy: 0.7976\n",
      "Epoch 2/100\n",
      "415/415 [==============================] - 0s 158us/sample - loss: 0.4521 - accuracy: 0.8096 - val_loss: 0.4505 - val_accuracy: 0.7952\n",
      "Epoch 3/100\n",
      "415/415 [==============================] - 0s 147us/sample - loss: 0.4506 - accuracy: 0.8096 - val_loss: 0.4508 - val_accuracy: 0.7952\n",
      "Epoch 4/100\n",
      "415/415 [==============================] - 0s 158us/sample - loss: 0.4492 - accuracy: 0.8145 - val_loss: 0.4513 - val_accuracy: 0.7952\n",
      "Epoch 5/100\n",
      "415/415 [==============================] - 0s 148us/sample - loss: 0.4480 - accuracy: 0.8169 - val_loss: 0.4518 - val_accuracy: 0.7952\n",
      "Epoch 6/100\n",
      "415/415 [==============================] - 0s 163us/sample - loss: 0.4471 - accuracy: 0.8169 - val_loss: 0.4522 - val_accuracy: 0.7952\n",
      "Epoch 7/100\n",
      "415/415 [==============================] - 0s 158us/sample - loss: 0.4465 - accuracy: 0.8193 - val_loss: 0.4528 - val_accuracy: 0.8024\n",
      "Epoch 8/100\n",
      "415/415 [==============================] - 0s 171us/sample - loss: 0.4458 - accuracy: 0.8193 - val_loss: 0.4534 - val_accuracy: 0.8024\n",
      "Epoch 9/100\n",
      "415/415 [==============================] - 0s 159us/sample - loss: 0.4450 - accuracy: 0.8193 - val_loss: 0.4537 - val_accuracy: 0.8024\n",
      "Epoch 10/100\n",
      "415/415 [==============================] - 0s 153us/sample - loss: 0.4445 - accuracy: 0.8193 - val_loss: 0.4541 - val_accuracy: 0.8024\n",
      "Epoch 11/100\n",
      "415/415 [==============================] - 0s 150us/sample - loss: 0.4440 - accuracy: 0.8193 - val_loss: 0.4546 - val_accuracy: 0.8000\n",
      "Epoch 12/100\n",
      "415/415 [==============================] - 0s 165us/sample - loss: 0.4437 - accuracy: 0.8193 - val_loss: 0.4552 - val_accuracy: 0.7976\n",
      "Epoch 13/100\n",
      "415/415 [==============================] - 0s 167us/sample - loss: 0.4432 - accuracy: 0.8217 - val_loss: 0.4556 - val_accuracy: 0.7976\n",
      "Epoch 14/100\n",
      "415/415 [==============================] - 0s 202us/sample - loss: 0.4427 - accuracy: 0.8217 - val_loss: 0.4561 - val_accuracy: 0.7976\n",
      "Epoch 15/100\n",
      "415/415 [==============================] - 0s 156us/sample - loss: 0.4423 - accuracy: 0.8241 - val_loss: 0.4566 - val_accuracy: 0.8000\n",
      "Epoch 16/100\n",
      "415/415 [==============================] - 0s 146us/sample - loss: 0.4418 - accuracy: 0.8241 - val_loss: 0.4569 - val_accuracy: 0.8000\n",
      "Epoch 17/100\n",
      "415/415 [==============================] - 0s 168us/sample - loss: 0.4414 - accuracy: 0.8241 - val_loss: 0.4571 - val_accuracy: 0.8000\n",
      "Epoch 18/100\n",
      "415/415 [==============================] - 0s 168us/sample - loss: 0.4411 - accuracy: 0.8217 - val_loss: 0.4571 - val_accuracy: 0.8000\n",
      "Epoch 19/100\n",
      "415/415 [==============================] - 0s 174us/sample - loss: 0.4406 - accuracy: 0.8193 - val_loss: 0.4573 - val_accuracy: 0.8000\n",
      "Epoch 20/100\n",
      "415/415 [==============================] - 0s 159us/sample - loss: 0.4404 - accuracy: 0.8193 - val_loss: 0.4576 - val_accuracy: 0.8000\n",
      "Epoch 21/100\n",
      "415/415 [==============================] - 0s 186us/sample - loss: 0.4400 - accuracy: 0.8193 - val_loss: 0.4580 - val_accuracy: 0.8000\n",
      "Epoch 22/100\n",
      "415/415 [==============================] - 0s 166us/sample - loss: 0.4396 - accuracy: 0.8193 - val_loss: 0.4581 - val_accuracy: 0.8000\n",
      "Epoch 23/100\n",
      "415/415 [==============================] - 0s 152us/sample - loss: 0.4393 - accuracy: 0.8193 - val_loss: 0.4584 - val_accuracy: 0.8000\n",
      "Epoch 24/100\n",
      "415/415 [==============================] - 0s 164us/sample - loss: 0.4390 - accuracy: 0.8193 - val_loss: 0.4587 - val_accuracy: 0.8000\n",
      "Epoch 25/100\n",
      "415/415 [==============================] - 0s 167us/sample - loss: 0.4388 - accuracy: 0.8193 - val_loss: 0.4590 - val_accuracy: 0.8000\n",
      "Epoch 26/100\n",
      "415/415 [==============================] - 0s 202us/sample - loss: 0.4386 - accuracy: 0.8193 - val_loss: 0.4592 - val_accuracy: 0.8000\n",
      "Epoch 27/100\n",
      "415/415 [==============================] - 0s 189us/sample - loss: 0.4384 - accuracy: 0.8169 - val_loss: 0.4597 - val_accuracy: 0.7976\n",
      "Epoch 28/100\n",
      "415/415 [==============================] - 0s 164us/sample - loss: 0.4381 - accuracy: 0.8169 - val_loss: 0.4599 - val_accuracy: 0.7976\n",
      "Epoch 29/100\n",
      "415/415 [==============================] - 0s 160us/sample - loss: 0.4380 - accuracy: 0.8169 - val_loss: 0.4603 - val_accuracy: 0.8000\n",
      "Epoch 30/100\n",
      "415/415 [==============================] - 0s 162us/sample - loss: 0.4378 - accuracy: 0.8169 - val_loss: 0.4605 - val_accuracy: 0.8000\n",
      "Epoch 31/100\n",
      "415/415 [==============================] - 0s 175us/sample - loss: 0.4377 - accuracy: 0.8193 - val_loss: 0.4606 - val_accuracy: 0.8000\n",
      "Epoch 32/100\n",
      "415/415 [==============================] - 0s 193us/sample - loss: 0.4375 - accuracy: 0.8193 - val_loss: 0.4606 - val_accuracy: 0.8024\n",
      "Epoch 33/100\n",
      "415/415 [==============================] - 0s 188us/sample - loss: 0.4374 - accuracy: 0.8193 - val_loss: 0.4608 - val_accuracy: 0.8000\n",
      "Epoch 34/100\n",
      "415/415 [==============================] - 0s 181us/sample - loss: 0.4373 - accuracy: 0.8193 - val_loss: 0.4609 - val_accuracy: 0.8024\n",
      "Epoch 35/100\n",
      "415/415 [==============================] - 0s 155us/sample - loss: 0.4371 - accuracy: 0.8217 - val_loss: 0.4611 - val_accuracy: 0.8024\n",
      "Epoch 36/100\n",
      "415/415 [==============================] - 0s 164us/sample - loss: 0.4370 - accuracy: 0.8217 - val_loss: 0.4611 - val_accuracy: 0.8024\n",
      "Epoch 37/100\n",
      "415/415 [==============================] - 0s 156us/sample - loss: 0.4369 - accuracy: 0.8217 - val_loss: 0.4612 - val_accuracy: 0.8024\n",
      "Epoch 38/100\n",
      "415/415 [==============================] - 0s 152us/sample - loss: 0.4368 - accuracy: 0.8217 - val_loss: 0.4612 - val_accuracy: 0.8024\n",
      "Epoch 39/100\n",
      "415/415 [==============================] - 0s 149us/sample - loss: 0.4366 - accuracy: 0.8217 - val_loss: 0.4614 - val_accuracy: 0.8024\n",
      "Epoch 40/100\n",
      "415/415 [==============================] - 0s 144us/sample - loss: 0.4365 - accuracy: 0.8217 - val_loss: 0.4616 - val_accuracy: 0.8024\n",
      "Epoch 41/100\n",
      "415/415 [==============================] - 0s 138us/sample - loss: 0.4365 - accuracy: 0.8217 - val_loss: 0.4619 - val_accuracy: 0.8024\n",
      "Epoch 42/100\n",
      "415/415 [==============================] - 0s 141us/sample - loss: 0.4363 - accuracy: 0.8217 - val_loss: 0.4621 - val_accuracy: 0.8024\n",
      "Epoch 43/100\n",
      "415/415 [==============================] - 0s 142us/sample - loss: 0.4362 - accuracy: 0.8193 - val_loss: 0.4625 - val_accuracy: 0.8000\n",
      "Epoch 44/100\n",
      "415/415 [==============================] - 0s 138us/sample - loss: 0.4362 - accuracy: 0.8193 - val_loss: 0.4628 - val_accuracy: 0.8000\n",
      "Epoch 45/100\n",
      "415/415 [==============================] - 0s 132us/sample - loss: 0.4360 - accuracy: 0.8193 - val_loss: 0.4628 - val_accuracy: 0.8000\n",
      "Epoch 46/100\n",
      "415/415 [==============================] - 0s 140us/sample - loss: 0.4359 - accuracy: 0.8193 - val_loss: 0.4628 - val_accuracy: 0.8000\n",
      "Epoch 47/100\n",
      "415/415 [==============================] - 0s 162us/sample - loss: 0.4359 - accuracy: 0.8193 - val_loss: 0.4629 - val_accuracy: 0.8000\n",
      "Epoch 48/100\n",
      "415/415 [==============================] - 0s 151us/sample - loss: 0.4357 - accuracy: 0.8193 - val_loss: 0.4631 - val_accuracy: 0.8000\n",
      "Epoch 49/100\n",
      "415/415 [==============================] - 0s 149us/sample - loss: 0.4356 - accuracy: 0.8193 - val_loss: 0.4632 - val_accuracy: 0.7976\n",
      "Epoch 50/100\n",
      "415/415 [==============================] - 0s 143us/sample - loss: 0.4356 - accuracy: 0.8193 - val_loss: 0.4633 - val_accuracy: 0.7976\n",
      "Epoch 51/100\n",
      "415/415 [==============================] - 0s 131us/sample - loss: 0.4355 - accuracy: 0.8193 - val_loss: 0.4632 - val_accuracy: 0.7976\n",
      "Epoch 52/100\n",
      "415/415 [==============================] - 0s 142us/sample - loss: 0.4355 - accuracy: 0.8217 - val_loss: 0.4633 - val_accuracy: 0.8000\n",
      "Epoch 53/100\n",
      "415/415 [==============================] - 0s 135us/sample - loss: 0.4354 - accuracy: 0.8241 - val_loss: 0.4634 - val_accuracy: 0.7976\n",
      "Epoch 54/100\n",
      "415/415 [==============================] - 0s 143us/sample - loss: 0.4353 - accuracy: 0.8217 - val_loss: 0.4635 - val_accuracy: 0.7976\n",
      "Epoch 55/100\n",
      "415/415 [==============================] - 0s 132us/sample - loss: 0.4353 - accuracy: 0.8217 - val_loss: 0.4636 - val_accuracy: 0.7976\n",
      "Epoch 56/100\n"
     ]
    },
    {
     "name": "stdout",
     "output_type": "stream",
     "text": [
      "415/415 [==============================] - 0s 147us/sample - loss: 0.4352 - accuracy: 0.8217 - val_loss: 0.4637 - val_accuracy: 0.7976\n",
      "Epoch 57/100\n",
      "415/415 [==============================] - 0s 148us/sample - loss: 0.4352 - accuracy: 0.8217 - val_loss: 0.4638 - val_accuracy: 0.7976\n",
      "Epoch 58/100\n",
      "415/415 [==============================] - 0s 146us/sample - loss: 0.4351 - accuracy: 0.8217 - val_loss: 0.4639 - val_accuracy: 0.7952\n",
      "Epoch 59/100\n",
      "415/415 [==============================] - 0s 135us/sample - loss: 0.4351 - accuracy: 0.8217 - val_loss: 0.4637 - val_accuracy: 0.7952\n",
      "Epoch 60/100\n",
      "415/415 [==============================] - 0s 134us/sample - loss: 0.4350 - accuracy: 0.8241 - val_loss: 0.4638 - val_accuracy: 0.7952\n",
      "Epoch 61/100\n",
      "415/415 [==============================] - 0s 147us/sample - loss: 0.4350 - accuracy: 0.8241 - val_loss: 0.4641 - val_accuracy: 0.7952\n",
      "Epoch 62/100\n",
      "415/415 [==============================] - 0s 150us/sample - loss: 0.4349 - accuracy: 0.8241 - val_loss: 0.4644 - val_accuracy: 0.7952\n",
      "Epoch 63/100\n",
      "415/415 [==============================] - 0s 151us/sample - loss: 0.4349 - accuracy: 0.8241 - val_loss: 0.4643 - val_accuracy: 0.7952\n",
      "Epoch 64/100\n",
      "415/415 [==============================] - 0s 140us/sample - loss: 0.4349 - accuracy: 0.8217 - val_loss: 0.4646 - val_accuracy: 0.7952\n",
      "Epoch 65/100\n",
      "415/415 [==============================] - 0s 140us/sample - loss: 0.4348 - accuracy: 0.8217 - val_loss: 0.4647 - val_accuracy: 0.7976\n",
      "Epoch 66/100\n",
      "415/415 [==============================] - 0s 147us/sample - loss: 0.4347 - accuracy: 0.8217 - val_loss: 0.4646 - val_accuracy: 0.7976\n",
      "Epoch 67/100\n",
      "415/415 [==============================] - 0s 146us/sample - loss: 0.4348 - accuracy: 0.8241 - val_loss: 0.4645 - val_accuracy: 0.7952\n",
      "Epoch 68/100\n",
      "415/415 [==============================] - 0s 147us/sample - loss: 0.4348 - accuracy: 0.8241 - val_loss: 0.4643 - val_accuracy: 0.7952\n",
      "Epoch 69/100\n",
      "415/415 [==============================] - 0s 143us/sample - loss: 0.4346 - accuracy: 0.8241 - val_loss: 0.4644 - val_accuracy: 0.7952\n",
      "Epoch 70/100\n",
      "415/415 [==============================] - 0s 149us/sample - loss: 0.4347 - accuracy: 0.8241 - val_loss: 0.4644 - val_accuracy: 0.7976\n",
      "Epoch 71/100\n",
      "415/415 [==============================] - 0s 157us/sample - loss: 0.4345 - accuracy: 0.8241 - val_loss: 0.4646 - val_accuracy: 0.7976\n",
      "Epoch 72/100\n",
      "415/415 [==============================] - 0s 152us/sample - loss: 0.4345 - accuracy: 0.8265 - val_loss: 0.4647 - val_accuracy: 0.7928\n",
      "Epoch 73/100\n",
      "415/415 [==============================] - 0s 155us/sample - loss: 0.4345 - accuracy: 0.8265 - val_loss: 0.4648 - val_accuracy: 0.7928\n",
      "Epoch 74/100\n",
      "415/415 [==============================] - 0s 153us/sample - loss: 0.4345 - accuracy: 0.8265 - val_loss: 0.4651 - val_accuracy: 0.7952\n",
      "Epoch 75/100\n",
      "415/415 [==============================] - 0s 141us/sample - loss: 0.4344 - accuracy: 0.8241 - val_loss: 0.4652 - val_accuracy: 0.7952\n",
      "Epoch 76/100\n",
      "415/415 [==============================] - 0s 148us/sample - loss: 0.4346 - accuracy: 0.8241 - val_loss: 0.4649 - val_accuracy: 0.7928\n",
      "Epoch 77/100\n",
      "415/415 [==============================] - 0s 143us/sample - loss: 0.4344 - accuracy: 0.8265 - val_loss: 0.4651 - val_accuracy: 0.7928\n",
      "Epoch 78/100\n",
      "415/415 [==============================] - 0s 148us/sample - loss: 0.4344 - accuracy: 0.8241 - val_loss: 0.4651 - val_accuracy: 0.7928\n",
      "Epoch 79/100\n",
      "415/415 [==============================] - 0s 142us/sample - loss: 0.4343 - accuracy: 0.8265 - val_loss: 0.4650 - val_accuracy: 0.7928\n",
      "Epoch 80/100\n",
      "415/415 [==============================] - 0s 139us/sample - loss: 0.4343 - accuracy: 0.8265 - val_loss: 0.4651 - val_accuracy: 0.7928\n",
      "Epoch 81/100\n",
      "415/415 [==============================] - 0s 144us/sample - loss: 0.4342 - accuracy: 0.8241 - val_loss: 0.4651 - val_accuracy: 0.7928\n",
      "Epoch 82/100\n",
      "415/415 [==============================] - 0s 158us/sample - loss: 0.4343 - accuracy: 0.8241 - val_loss: 0.4652 - val_accuracy: 0.7928\n",
      "Epoch 83/100\n",
      "415/415 [==============================] - 0s 144us/sample - loss: 0.4343 - accuracy: 0.8265 - val_loss: 0.4650 - val_accuracy: 0.7928\n",
      "Epoch 84/100\n",
      "415/415 [==============================] - 0s 141us/sample - loss: 0.4343 - accuracy: 0.8265 - val_loss: 0.4650 - val_accuracy: 0.7928\n",
      "Epoch 85/100\n",
      "415/415 [==============================] - 0s 146us/sample - loss: 0.4341 - accuracy: 0.8265 - val_loss: 0.4653 - val_accuracy: 0.7928\n",
      "Epoch 86/100\n",
      "415/415 [==============================] - 0s 147us/sample - loss: 0.4341 - accuracy: 0.8265 - val_loss: 0.4653 - val_accuracy: 0.7928\n",
      "Epoch 87/100\n",
      "415/415 [==============================] - 0s 151us/sample - loss: 0.4340 - accuracy: 0.8265 - val_loss: 0.4652 - val_accuracy: 0.7928\n",
      "Epoch 88/100\n",
      "415/415 [==============================] - 0s 140us/sample - loss: 0.4342 - accuracy: 0.8265 - val_loss: 0.4648 - val_accuracy: 0.7928\n",
      "Epoch 89/100\n",
      "415/415 [==============================] - 0s 149us/sample - loss: 0.4340 - accuracy: 0.8265 - val_loss: 0.4649 - val_accuracy: 0.7928\n",
      "Epoch 90/100\n",
      "415/415 [==============================] - 0s 143us/sample - loss: 0.4340 - accuracy: 0.8265 - val_loss: 0.4651 - val_accuracy: 0.7928\n",
      "Epoch 91/100\n",
      "415/415 [==============================] - 0s 143us/sample - loss: 0.4338 - accuracy: 0.8265 - val_loss: 0.4648 - val_accuracy: 0.7952\n",
      "Epoch 92/100\n",
      "415/415 [==============================] - 0s 147us/sample - loss: 0.4339 - accuracy: 0.8265 - val_loss: 0.4647 - val_accuracy: 0.7952\n",
      "Epoch 93/100\n",
      "415/415 [==============================] - 0s 153us/sample - loss: 0.4337 - accuracy: 0.8265 - val_loss: 0.4649 - val_accuracy: 0.7952\n",
      "Epoch 94/100\n",
      "415/415 [==============================] - 0s 149us/sample - loss: 0.4337 - accuracy: 0.8265 - val_loss: 0.4650 - val_accuracy: 0.7952\n",
      "Epoch 95/100\n",
      "415/415 [==============================] - 0s 146us/sample - loss: 0.4338 - accuracy: 0.8265 - val_loss: 0.4653 - val_accuracy: 0.7952\n",
      "Epoch 96/100\n",
      "415/415 [==============================] - 0s 147us/sample - loss: 0.4336 - accuracy: 0.8265 - val_loss: 0.4655 - val_accuracy: 0.7952\n",
      "Epoch 97/100\n",
      "415/415 [==============================] - 0s 153us/sample - loss: 0.4336 - accuracy: 0.8265 - val_loss: 0.4655 - val_accuracy: 0.7952\n",
      "Epoch 98/100\n",
      "415/415 [==============================] - 0s 143us/sample - loss: 0.4335 - accuracy: 0.8265 - val_loss: 0.4654 - val_accuracy: 0.7952\n",
      "Epoch 99/100\n",
      "415/415 [==============================] - 0s 143us/sample - loss: 0.4335 - accuracy: 0.8265 - val_loss: 0.4652 - val_accuracy: 0.7952\n",
      "Epoch 100/100\n",
      "415/415 [==============================] - 0s 154us/sample - loss: 0.4336 - accuracy: 0.8265 - val_loss: 0.4651 - val_accuracy: 0.7952\n"
     ]
    },
    {
     "data": {
      "text/plain": [
       "<tensorflow.python.keras.callbacks.History at 0x1a5b26d250>"
      ]
     },
     "execution_count": 45,
     "metadata": {},
     "output_type": "execute_result"
    }
   ],
   "source": [
    "from sklearn.model_selection import train_test_split\n",
    "y_2 = df['SEVERITY'].values\n",
    "X_train2, X_test2, y_train2, y_test2 = train_test_split(feature_values, y_2, test_size = 0.5)\n",
    "model_2.fit(X_train2, y_train2, epochs = 100, validation_data = (X_test2,y_test2), batch_size = 64)"
   ]
  },
  {
   "cell_type": "markdown",
   "metadata": {},
   "source": [
    "Peak accuracy occurs at about 54 epochs so our model will stop running after 42 epochs"
   ]
  },
  {
   "cell_type": "code",
   "execution_count": 47,
   "metadata": {},
   "outputs": [
    {
     "name": "stdout",
     "output_type": "stream",
     "text": [
      "Train on 415 samples, validate on 415 samples\n",
      "Epoch 1/42\n",
      "415/415 [==============================] - 0s 273us/sample - loss: 0.4334 - accuracy: 0.8265 - val_loss: 0.4650 - val_accuracy: 0.7952\n",
      "Epoch 2/42\n",
      "415/415 [==============================] - 0s 177us/sample - loss: 0.4335 - accuracy: 0.8289 - val_loss: 0.4648 - val_accuracy: 0.7952\n",
      "Epoch 3/42\n",
      "415/415 [==============================] - 0s 171us/sample - loss: 0.4334 - accuracy: 0.8289 - val_loss: 0.4650 - val_accuracy: 0.7952\n",
      "Epoch 4/42\n",
      "415/415 [==============================] - 0s 168us/sample - loss: 0.4334 - accuracy: 0.8265 - val_loss: 0.4651 - val_accuracy: 0.7952\n",
      "Epoch 5/42\n",
      "415/415 [==============================] - 0s 165us/sample - loss: 0.4334 - accuracy: 0.8265 - val_loss: 0.4653 - val_accuracy: 0.7952\n",
      "Epoch 6/42\n",
      "415/415 [==============================] - 0s 180us/sample - loss: 0.4333 - accuracy: 0.8265 - val_loss: 0.4654 - val_accuracy: 0.7952\n",
      "Epoch 7/42\n",
      "415/415 [==============================] - 0s 162us/sample - loss: 0.4332 - accuracy: 0.8265 - val_loss: 0.4656 - val_accuracy: 0.7952\n",
      "Epoch 8/42\n",
      "415/415 [==============================] - 0s 150us/sample - loss: 0.4333 - accuracy: 0.8265 - val_loss: 0.4658 - val_accuracy: 0.7976\n",
      "Epoch 9/42\n",
      "415/415 [==============================] - 0s 158us/sample - loss: 0.4332 - accuracy: 0.8265 - val_loss: 0.4657 - val_accuracy: 0.7976\n",
      "Epoch 10/42\n",
      "415/415 [==============================] - 0s 146us/sample - loss: 0.4332 - accuracy: 0.8265 - val_loss: 0.4658 - val_accuracy: 0.7952\n",
      "Epoch 11/42\n",
      "415/415 [==============================] - 0s 161us/sample - loss: 0.4331 - accuracy: 0.8265 - val_loss: 0.4660 - val_accuracy: 0.7952\n",
      "Epoch 12/42\n",
      "415/415 [==============================] - 0s 160us/sample - loss: 0.4330 - accuracy: 0.8265 - val_loss: 0.4661 - val_accuracy: 0.7952\n",
      "Epoch 13/42\n",
      "415/415 [==============================] - 0s 162us/sample - loss: 0.4330 - accuracy: 0.8265 - val_loss: 0.4661 - val_accuracy: 0.7952\n",
      "Epoch 14/42\n",
      "415/415 [==============================] - 0s 182us/sample - loss: 0.4330 - accuracy: 0.8265 - val_loss: 0.4661 - val_accuracy: 0.7952\n",
      "Epoch 15/42\n",
      "415/415 [==============================] - 0s 191us/sample - loss: 0.4330 - accuracy: 0.8265 - val_loss: 0.4660 - val_accuracy: 0.7952\n",
      "Epoch 16/42\n",
      "415/415 [==============================] - 0s 170us/sample - loss: 0.4329 - accuracy: 0.8265 - val_loss: 0.4659 - val_accuracy: 0.7952\n",
      "Epoch 17/42\n",
      "415/415 [==============================] - 0s 205us/sample - loss: 0.4330 - accuracy: 0.8265 - val_loss: 0.4662 - val_accuracy: 0.7952\n",
      "Epoch 18/42\n",
      "415/415 [==============================] - 0s 182us/sample - loss: 0.4329 - accuracy: 0.8265 - val_loss: 0.4663 - val_accuracy: 0.7952\n",
      "Epoch 19/42\n",
      "415/415 [==============================] - 0s 166us/sample - loss: 0.4328 - accuracy: 0.8265 - val_loss: 0.4663 - val_accuracy: 0.7928\n",
      "Epoch 20/42\n",
      "415/415 [==============================] - 0s 173us/sample - loss: 0.4328 - accuracy: 0.8265 - val_loss: 0.4662 - val_accuracy: 0.7928\n",
      "Epoch 21/42\n",
      "415/415 [==============================] - 0s 176us/sample - loss: 0.4328 - accuracy: 0.8265 - val_loss: 0.4662 - val_accuracy: 0.7928\n",
      "Epoch 22/42\n",
      "415/415 [==============================] - 0s 155us/sample - loss: 0.4328 - accuracy: 0.8265 - val_loss: 0.4660 - val_accuracy: 0.7952\n",
      "Epoch 23/42\n",
      "415/415 [==============================] - 0s 159us/sample - loss: 0.4327 - accuracy: 0.8265 - val_loss: 0.4662 - val_accuracy: 0.7952\n",
      "Epoch 24/42\n",
      "415/415 [==============================] - 0s 146us/sample - loss: 0.4327 - accuracy: 0.8265 - val_loss: 0.4663 - val_accuracy: 0.7952\n",
      "Epoch 25/42\n",
      "415/415 [==============================] - 0s 193us/sample - loss: 0.4328 - accuracy: 0.8265 - val_loss: 0.4666 - val_accuracy: 0.7928\n",
      "Epoch 26/42\n",
      "415/415 [==============================] - 0s 182us/sample - loss: 0.4326 - accuracy: 0.8265 - val_loss: 0.4665 - val_accuracy: 0.7928\n",
      "Epoch 27/42\n",
      "415/415 [==============================] - 0s 170us/sample - loss: 0.4326 - accuracy: 0.8265 - val_loss: 0.4665 - val_accuracy: 0.7928\n",
      "Epoch 28/42\n",
      "415/415 [==============================] - 0s 172us/sample - loss: 0.4326 - accuracy: 0.8265 - val_loss: 0.4666 - val_accuracy: 0.7928\n",
      "Epoch 29/42\n",
      "415/415 [==============================] - 0s 175us/sample - loss: 0.4326 - accuracy: 0.8289 - val_loss: 0.4664 - val_accuracy: 0.7928\n",
      "Epoch 30/42\n",
      "415/415 [==============================] - 0s 175us/sample - loss: 0.4325 - accuracy: 0.8289 - val_loss: 0.4662 - val_accuracy: 0.7928\n",
      "Epoch 31/42\n",
      "415/415 [==============================] - 0s 170us/sample - loss: 0.4325 - accuracy: 0.8289 - val_loss: 0.4663 - val_accuracy: 0.7928\n",
      "Epoch 32/42\n",
      "415/415 [==============================] - 0s 155us/sample - loss: 0.4324 - accuracy: 0.8289 - val_loss: 0.4664 - val_accuracy: 0.7928\n",
      "Epoch 33/42\n",
      "415/415 [==============================] - 0s 183us/sample - loss: 0.4324 - accuracy: 0.8289 - val_loss: 0.4665 - val_accuracy: 0.7928\n",
      "Epoch 34/42\n",
      "415/415 [==============================] - 0s 163us/sample - loss: 0.4323 - accuracy: 0.8289 - val_loss: 0.4667 - val_accuracy: 0.7928\n",
      "Epoch 35/42\n",
      "415/415 [==============================] - 0s 159us/sample - loss: 0.4323 - accuracy: 0.8289 - val_loss: 0.4667 - val_accuracy: 0.7928\n",
      "Epoch 36/42\n",
      "415/415 [==============================] - 0s 177us/sample - loss: 0.4323 - accuracy: 0.8289 - val_loss: 0.4666 - val_accuracy: 0.7952\n",
      "Epoch 37/42\n",
      "415/415 [==============================] - 0s 150us/sample - loss: 0.4322 - accuracy: 0.8289 - val_loss: 0.4668 - val_accuracy: 0.7952\n",
      "Epoch 38/42\n",
      "415/415 [==============================] - 0s 138us/sample - loss: 0.4322 - accuracy: 0.8289 - val_loss: 0.4669 - val_accuracy: 0.7952\n",
      "Epoch 39/42\n",
      "415/415 [==============================] - 0s 138us/sample - loss: 0.4322 - accuracy: 0.8289 - val_loss: 0.4671 - val_accuracy: 0.7952\n",
      "Epoch 40/42\n",
      "415/415 [==============================] - 0s 146us/sample - loss: 0.4322 - accuracy: 0.8289 - val_loss: 0.4674 - val_accuracy: 0.7952\n",
      "Epoch 41/42\n",
      "415/415 [==============================] - 0s 137us/sample - loss: 0.4323 - accuracy: 0.8289 - val_loss: 0.4676 - val_accuracy: 0.7952\n",
      "Epoch 42/42\n",
      "415/415 [==============================] - 0s 140us/sample - loss: 0.4321 - accuracy: 0.8289 - val_loss: 0.4674 - val_accuracy: 0.7952\n"
     ]
    },
    {
     "data": {
      "text/plain": [
       "<tensorflow.python.keras.callbacks.History at 0x1a5b3305d0>"
      ]
     },
     "execution_count": 47,
     "metadata": {},
     "output_type": "execute_result"
    }
   ],
   "source": [
    "model_2.fit(X_train2, y_train2, epochs = 42, validation_data = (X_test2,y_test2), batch_size = 64)"
   ]
  },
  {
   "cell_type": "markdown",
   "metadata": {},
   "source": [
    "With a second neural network for classification, our model gives about 79.52% accuracy. Let's try implementing an XGBOOST model"
   ]
  },
  {
   "cell_type": "code",
   "execution_count": 64,
   "metadata": {},
   "outputs": [
    {
     "name": "stdout",
     "output_type": "stream",
     "text": [
      "0.7879518072289157\n"
     ]
    }
   ],
   "source": [
    "import xgboost as xgb\n",
    "from xgboost import XGBClassifier\n",
    "from sklearn.metrics import accuracy_score\n",
    "\n",
    "\n",
    "xgb = XGBClassifier(max_depth=5, learning_rate=0.001, n_estimators=100,  \n",
    "                        min_child_weight=1, subsample=0.5, colsample_bytree=0.5)\n",
    "xgb.fit(X_train2, y_train2)\n",
    "pred_y = xgb.predict(X_test2)\n",
    "\n",
    "score = accuracy_score(pred_y, y_test2)\n",
    "\n",
    "\n",
    "print(score)"
   ]
  },
  {
   "cell_type": "markdown",
   "metadata": {},
   "source": [
    "Using GRIDSEARCHCV, let's try to optimize our parameters"
   ]
  },
  {
   "cell_type": "code",
   "execution_count": 62,
   "metadata": {},
   "outputs": [
    {
     "name": "stdout",
     "output_type": "stream",
     "text": [
      "Best: -0.452626 using {'learning_rate': 0.1, 'max_depth': 1, 'n_estimators': 100}\n",
      "[-0.6915478  -0.68994328 -0.6867915  -0.68367395 -0.68062082 -0.67763643\n",
      " -0.69133289 -0.68951879 -0.68595616 -0.68244163 -0.67898805 -0.67560583\n",
      " -0.69124072 -0.6893599  -0.68562763 -0.68195108 -0.67833323 -0.67479085\n",
      " -0.69121411 -0.68931298 -0.68552935 -0.68180029 -0.67813158 -0.67454211\n",
      " -0.69121477 -0.68931245 -0.6855254  -0.68179248 -0.67811986 -0.67453263\n",
      " -0.67774435 -0.6634473  -0.63835609 -0.61688263 -0.59858756 -0.58290427\n",
      " -0.6756996  -0.65957192 -0.63127668 -0.60717661 -0.58659583 -0.56904258\n",
      " -0.67482882 -0.65811609 -0.62857384 -0.60349785 -0.58215866 -0.56400725\n",
      " -0.67457645 -0.65769844 -0.62780948 -0.60246058 -0.58089438 -0.56265782\n",
      " -0.67459014 -0.65770217 -0.62784827 -0.60254086 -0.58102456 -0.56289496\n",
      " -0.58277738 -0.53104735 -0.4844732  -0.46684379 -0.45796361 -0.45411553\n",
      " -0.56893509 -0.51133215 -0.46870315 -0.45720857 -0.45449033 -0.45480023\n",
      " -0.56422497 -0.50568267 -0.46484992 -0.45663874 -0.45609746 -0.45837435\n",
      " -0.562963   -0.50514149 -0.46627179 -0.4596027  -0.4604729  -0.46422884\n",
      " -0.5629303  -0.50587842 -0.46851881 -0.46295378 -0.46454901 -0.46934466\n",
      " -0.45552559 -0.45262555 -0.45582671 -0.46000386 -0.46004582 -0.46462208\n",
      " -0.45656022 -0.45989456 -0.47068272 -0.47680836 -0.48336315 -0.49050989\n",
      " -0.46214933 -0.47135568 -0.49238527 -0.50529947 -0.51538586 -0.52614822\n",
      " -0.46460229 -0.48056702 -0.5081907  -0.52580621 -0.53799177 -0.55063123\n",
      " -0.47341136 -0.49153586 -0.5208691  -0.5408171  -0.55503024 -0.57431527]\n",
      "[0.00017668 0.0003226  0.00064383 0.00094728 0.00126414 0.00158431\n",
      " 0.00023639 0.00044779 0.00088919 0.00132379 0.00174772 0.0021732\n",
      " 0.00023826 0.00044954 0.00090872 0.00135536 0.00180614 0.00225042\n",
      " 0.00024163 0.00045535 0.00091635 0.00135923 0.00181517 0.00225872\n",
      " 0.00024059 0.00045416 0.00091079 0.00135234 0.00180336 0.00224674\n",
      " 0.00173759 0.00314629 0.00609866 0.00881205 0.01155707 0.01413194\n",
      " 0.00228997 0.00422732 0.00803128 0.01142593 0.01443798 0.01726893\n",
      " 0.00231678 0.00425382 0.0081857  0.01158969 0.01475487 0.01758808\n",
      " 0.00236629 0.00433403 0.00829633 0.01174652 0.0149897  0.01784167\n",
      " 0.00234806 0.0043126  0.00826286 0.01168606 0.01490533 0.01776282\n",
      " 0.01492737 0.02400799 0.0341356  0.04000126 0.04371549 0.04597969\n",
      " 0.01787237 0.02784203 0.03974457 0.0447406  0.04781364 0.04973656\n",
      " 0.01817535 0.02815739 0.03987955 0.04522221 0.04863038 0.05137042\n",
      " 0.01847515 0.02855778 0.04098684 0.04711642 0.0512434  0.0542816\n",
      " 0.01834025 0.02883077 0.0420435  0.04903285 0.05321345 0.05657335\n",
      " 0.04613723 0.04932462 0.05498736 0.05764726 0.05939018 0.06093352\n",
      " 0.0516207  0.05387939 0.05755168 0.0585778  0.06253091 0.06264884\n",
      " 0.05251176 0.05391955 0.06088739 0.06588525 0.06940121 0.0739076\n",
      " 0.0571105  0.06016353 0.07046283 0.07751439 0.07595856 0.07930456\n",
      " 0.0597612  0.05998983 0.07146056 0.0776428  0.07700691 0.08100578]\n",
      "[{'learning_rate': 0.0001, 'max_depth': 1, 'n_estimators': 50}, {'learning_rate': 0.0001, 'max_depth': 1, 'n_estimators': 100}, {'learning_rate': 0.0001, 'max_depth': 1, 'n_estimators': 200}, {'learning_rate': 0.0001, 'max_depth': 1, 'n_estimators': 300}, {'learning_rate': 0.0001, 'max_depth': 1, 'n_estimators': 400}, {'learning_rate': 0.0001, 'max_depth': 1, 'n_estimators': 500}, {'learning_rate': 0.0001, 'max_depth': 2, 'n_estimators': 50}, {'learning_rate': 0.0001, 'max_depth': 2, 'n_estimators': 100}, {'learning_rate': 0.0001, 'max_depth': 2, 'n_estimators': 200}, {'learning_rate': 0.0001, 'max_depth': 2, 'n_estimators': 300}, {'learning_rate': 0.0001, 'max_depth': 2, 'n_estimators': 400}, {'learning_rate': 0.0001, 'max_depth': 2, 'n_estimators': 500}, {'learning_rate': 0.0001, 'max_depth': 3, 'n_estimators': 50}, {'learning_rate': 0.0001, 'max_depth': 3, 'n_estimators': 100}, {'learning_rate': 0.0001, 'max_depth': 3, 'n_estimators': 200}, {'learning_rate': 0.0001, 'max_depth': 3, 'n_estimators': 300}, {'learning_rate': 0.0001, 'max_depth': 3, 'n_estimators': 400}, {'learning_rate': 0.0001, 'max_depth': 3, 'n_estimators': 500}, {'learning_rate': 0.0001, 'max_depth': 4, 'n_estimators': 50}, {'learning_rate': 0.0001, 'max_depth': 4, 'n_estimators': 100}, {'learning_rate': 0.0001, 'max_depth': 4, 'n_estimators': 200}, {'learning_rate': 0.0001, 'max_depth': 4, 'n_estimators': 300}, {'learning_rate': 0.0001, 'max_depth': 4, 'n_estimators': 400}, {'learning_rate': 0.0001, 'max_depth': 4, 'n_estimators': 500}, {'learning_rate': 0.0001, 'max_depth': 5, 'n_estimators': 50}, {'learning_rate': 0.0001, 'max_depth': 5, 'n_estimators': 100}, {'learning_rate': 0.0001, 'max_depth': 5, 'n_estimators': 200}, {'learning_rate': 0.0001, 'max_depth': 5, 'n_estimators': 300}, {'learning_rate': 0.0001, 'max_depth': 5, 'n_estimators': 400}, {'learning_rate': 0.0001, 'max_depth': 5, 'n_estimators': 500}, {'learning_rate': 0.001, 'max_depth': 1, 'n_estimators': 50}, {'learning_rate': 0.001, 'max_depth': 1, 'n_estimators': 100}, {'learning_rate': 0.001, 'max_depth': 1, 'n_estimators': 200}, {'learning_rate': 0.001, 'max_depth': 1, 'n_estimators': 300}, {'learning_rate': 0.001, 'max_depth': 1, 'n_estimators': 400}, {'learning_rate': 0.001, 'max_depth': 1, 'n_estimators': 500}, {'learning_rate': 0.001, 'max_depth': 2, 'n_estimators': 50}, {'learning_rate': 0.001, 'max_depth': 2, 'n_estimators': 100}, {'learning_rate': 0.001, 'max_depth': 2, 'n_estimators': 200}, {'learning_rate': 0.001, 'max_depth': 2, 'n_estimators': 300}, {'learning_rate': 0.001, 'max_depth': 2, 'n_estimators': 400}, {'learning_rate': 0.001, 'max_depth': 2, 'n_estimators': 500}, {'learning_rate': 0.001, 'max_depth': 3, 'n_estimators': 50}, {'learning_rate': 0.001, 'max_depth': 3, 'n_estimators': 100}, {'learning_rate': 0.001, 'max_depth': 3, 'n_estimators': 200}, {'learning_rate': 0.001, 'max_depth': 3, 'n_estimators': 300}, {'learning_rate': 0.001, 'max_depth': 3, 'n_estimators': 400}, {'learning_rate': 0.001, 'max_depth': 3, 'n_estimators': 500}, {'learning_rate': 0.001, 'max_depth': 4, 'n_estimators': 50}, {'learning_rate': 0.001, 'max_depth': 4, 'n_estimators': 100}, {'learning_rate': 0.001, 'max_depth': 4, 'n_estimators': 200}, {'learning_rate': 0.001, 'max_depth': 4, 'n_estimators': 300}, {'learning_rate': 0.001, 'max_depth': 4, 'n_estimators': 400}, {'learning_rate': 0.001, 'max_depth': 4, 'n_estimators': 500}, {'learning_rate': 0.001, 'max_depth': 5, 'n_estimators': 50}, {'learning_rate': 0.001, 'max_depth': 5, 'n_estimators': 100}, {'learning_rate': 0.001, 'max_depth': 5, 'n_estimators': 200}, {'learning_rate': 0.001, 'max_depth': 5, 'n_estimators': 300}, {'learning_rate': 0.001, 'max_depth': 5, 'n_estimators': 400}, {'learning_rate': 0.001, 'max_depth': 5, 'n_estimators': 500}, {'learning_rate': 0.01, 'max_depth': 1, 'n_estimators': 50}, {'learning_rate': 0.01, 'max_depth': 1, 'n_estimators': 100}, {'learning_rate': 0.01, 'max_depth': 1, 'n_estimators': 200}, {'learning_rate': 0.01, 'max_depth': 1, 'n_estimators': 300}, {'learning_rate': 0.01, 'max_depth': 1, 'n_estimators': 400}, {'learning_rate': 0.01, 'max_depth': 1, 'n_estimators': 500}, {'learning_rate': 0.01, 'max_depth': 2, 'n_estimators': 50}, {'learning_rate': 0.01, 'max_depth': 2, 'n_estimators': 100}, {'learning_rate': 0.01, 'max_depth': 2, 'n_estimators': 200}, {'learning_rate': 0.01, 'max_depth': 2, 'n_estimators': 300}, {'learning_rate': 0.01, 'max_depth': 2, 'n_estimators': 400}, {'learning_rate': 0.01, 'max_depth': 2, 'n_estimators': 500}, {'learning_rate': 0.01, 'max_depth': 3, 'n_estimators': 50}, {'learning_rate': 0.01, 'max_depth': 3, 'n_estimators': 100}, {'learning_rate': 0.01, 'max_depth': 3, 'n_estimators': 200}, {'learning_rate': 0.01, 'max_depth': 3, 'n_estimators': 300}, {'learning_rate': 0.01, 'max_depth': 3, 'n_estimators': 400}, {'learning_rate': 0.01, 'max_depth': 3, 'n_estimators': 500}, {'learning_rate': 0.01, 'max_depth': 4, 'n_estimators': 50}, {'learning_rate': 0.01, 'max_depth': 4, 'n_estimators': 100}, {'learning_rate': 0.01, 'max_depth': 4, 'n_estimators': 200}, {'learning_rate': 0.01, 'max_depth': 4, 'n_estimators': 300}, {'learning_rate': 0.01, 'max_depth': 4, 'n_estimators': 400}, {'learning_rate': 0.01, 'max_depth': 4, 'n_estimators': 500}, {'learning_rate': 0.01, 'max_depth': 5, 'n_estimators': 50}, {'learning_rate': 0.01, 'max_depth': 5, 'n_estimators': 100}, {'learning_rate': 0.01, 'max_depth': 5, 'n_estimators': 200}, {'learning_rate': 0.01, 'max_depth': 5, 'n_estimators': 300}, {'learning_rate': 0.01, 'max_depth': 5, 'n_estimators': 400}, {'learning_rate': 0.01, 'max_depth': 5, 'n_estimators': 500}, {'learning_rate': 0.1, 'max_depth': 1, 'n_estimators': 50}, {'learning_rate': 0.1, 'max_depth': 1, 'n_estimators': 100}, {'learning_rate': 0.1, 'max_depth': 1, 'n_estimators': 200}, {'learning_rate': 0.1, 'max_depth': 1, 'n_estimators': 300}, {'learning_rate': 0.1, 'max_depth': 1, 'n_estimators': 400}, {'learning_rate': 0.1, 'max_depth': 1, 'n_estimators': 500}, {'learning_rate': 0.1, 'max_depth': 2, 'n_estimators': 50}, {'learning_rate': 0.1, 'max_depth': 2, 'n_estimators': 100}, {'learning_rate': 0.1, 'max_depth': 2, 'n_estimators': 200}, {'learning_rate': 0.1, 'max_depth': 2, 'n_estimators': 300}, {'learning_rate': 0.1, 'max_depth': 2, 'n_estimators': 400}, {'learning_rate': 0.1, 'max_depth': 2, 'n_estimators': 500}, {'learning_rate': 0.1, 'max_depth': 3, 'n_estimators': 50}, {'learning_rate': 0.1, 'max_depth': 3, 'n_estimators': 100}, {'learning_rate': 0.1, 'max_depth': 3, 'n_estimators': 200}, {'learning_rate': 0.1, 'max_depth': 3, 'n_estimators': 300}, {'learning_rate': 0.1, 'max_depth': 3, 'n_estimators': 400}, {'learning_rate': 0.1, 'max_depth': 3, 'n_estimators': 500}, {'learning_rate': 0.1, 'max_depth': 4, 'n_estimators': 50}, {'learning_rate': 0.1, 'max_depth': 4, 'n_estimators': 100}, {'learning_rate': 0.1, 'max_depth': 4, 'n_estimators': 200}, {'learning_rate': 0.1, 'max_depth': 4, 'n_estimators': 300}, {'learning_rate': 0.1, 'max_depth': 4, 'n_estimators': 400}, {'learning_rate': 0.1, 'max_depth': 4, 'n_estimators': 500}, {'learning_rate': 0.1, 'max_depth': 5, 'n_estimators': 50}, {'learning_rate': 0.1, 'max_depth': 5, 'n_estimators': 100}, {'learning_rate': 0.1, 'max_depth': 5, 'n_estimators': 200}, {'learning_rate': 0.1, 'max_depth': 5, 'n_estimators': 300}, {'learning_rate': 0.1, 'max_depth': 5, 'n_estimators': 400}, {'learning_rate': 0.1, 'max_depth': 5, 'n_estimators': 500}]\n"
     ]
    }
   ],
   "source": [
    "from sklearn.model_selection import StratifiedKFold\n",
    "from sklearn.model_selection import GridSearchCV\n",
    "n_estimators = [50, 100, 200, 300, 400, 500]\n",
    "learning_rate = [0.0001, 0.001, 0.01, 0.1]\n",
    "max_depth = [1,2,3,4,5]\n",
    "    \n",
    "param_grid = dict(learning_rate=learning_rate, n_estimators=n_estimators, max_depth = max_depth)\n",
    "kfold = StratifiedKFold(n_splits=10, shuffle=True, random_state=7)\n",
    "grid_search = GridSearchCV(xgb, param_grid, scoring=\"neg_log_loss\", n_jobs=-1, cv=kfold)\n",
    "grid_result = grid_search.fit(feature_values, y_2)\n",
    "    \n",
    "\n",
    "print(\"Best: %f using %s\" % (grid_result.best_score_, grid_result.best_params_))\n",
    "means = grid_result.cv_results_['mean_test_score']\n",
    "stds = grid_result.cv_results_['std_test_score']\n",
    "params = grid_result.cv_results_['params']\n",
    "\n",
    "print(means)\n",
    "print(stds)\n",
    "\n"
   ]
  },
  {
   "cell_type": "markdown",
   "metadata": {},
   "source": [
    "Using these paramaters, we should now have an improved accuracy."
   ]
  },
  {
   "cell_type": "code",
   "execution_count": 65,
   "metadata": {},
   "outputs": [
    {
     "name": "stdout",
     "output_type": "stream",
     "text": [
      "0.8024096385542169\n"
     ]
    }
   ],
   "source": [
    "xgb = XGBClassifier(max_depth= 1, learning_rate=0.1, n_estimators=100,  \n",
    "                        min_child_weight=1, subsample=0.5, colsample_bytree=0.5)\n",
    "xgb.fit(X_train2, y_train2)\n",
    "pred_y = xgb.predict(X_test2)\n",
    "\n",
    "score = accuracy_score(pred_y, y_test2)\n",
    "\n",
    "\n",
    "print(score)"
   ]
  },
  {
   "cell_type": "code",
   "execution_count": 21,
   "metadata": {},
   "outputs": [
    {
     "data": {
      "text/plain": [
       "array([[0.0000000e+00, 0.0000000e+00, 1.1920929e-07, 1.8090487e-02,\n",
       "        9.7204858e-01, 3.6322456e-07, 9.9743736e-01]], dtype=float32)"
      ]
     },
     "execution_count": 21,
     "metadata": {},
     "output_type": "execute_result"
    }
   ],
   "source": [
    "def create_valid_input(data):\n",
    "    data = np.array(data)\n",
    "    data = np.reshape(data, (1, 1, data.shape[0]))\n",
    "    data = data.astype('float16')\n",
    "    return data\n",
    "    \n",
    "model.predict(create_valid_input([65,3,2,3]))\n",
    "\n",
    "\n"
   ]
  },
  {
   "cell_type": "markdown",
   "metadata": {},
   "source": [
    "Function for creating valid data for our model_1."
   ]
  },
  {
   "cell_type": "code",
   "execution_count": null,
   "metadata": {},
   "outputs": [],
   "source": []
  }
 ],
 "metadata": {
  "kernelspec": {
   "display_name": "Python 3",
   "language": "python",
   "name": "python3"
  },
  "language_info": {
   "codemirror_mode": {
    "name": "ipython",
    "version": 3
   },
   "file_extension": ".py",
   "mimetype": "text/x-python",
   "name": "python",
   "nbconvert_exporter": "python",
   "pygments_lexer": "ipython3",
   "version": "3.7.6"
  }
 },
 "nbformat": 4,
 "nbformat_minor": 4
}
